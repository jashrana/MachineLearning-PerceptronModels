{
 "cells": [
  {
   "cell_type": "code",
   "execution_count": 104,
   "id": "95cde958",
   "metadata": {},
   "outputs": [],
   "source": [
    "import numpy as np\n",
    "import pandas as pd\n",
    "import matplotlib.pyplot as plt\n",
    "import seaborn as sns\n",
    "from sklearn.metrics import accuracy_score, classification_report, confusion_matrix, roc_curve\n",
    "from sklearn.model_selection import StratifiedKFold\n",
    "import warnings\n",
    "\n",
    "warnings.filterwarnings('ignore')\n",
    "np.random.seed(42)"
   ]
  },
  {
   "cell_type": "code",
   "execution_count": 105,
   "id": "a88ac82b",
   "metadata": {
    "scrolled": true
   },
   "outputs": [],
   "source": [
    "data = pd.read_excel('wildfires.xlsx')"
   ]
  },
  {
   "cell_type": "code",
   "execution_count": 106,
   "id": "8280f79c",
   "metadata": {},
   "outputs": [
    {
     "data": {
      "text/html": [
       "<div>\n",
       "<style scoped>\n",
       "    .dataframe tbody tr th:only-of-type {\n",
       "        vertical-align: middle;\n",
       "    }\n",
       "\n",
       "    .dataframe tbody tr th {\n",
       "        vertical-align: top;\n",
       "    }\n",
       "\n",
       "    .dataframe thead th {\n",
       "        text-align: right;\n",
       "    }\n",
       "</style>\n",
       "<table border=\"1\" class=\"dataframe\">\n",
       "  <thead>\n",
       "    <tr style=\"text-align: right;\">\n",
       "      <th></th>\n",
       "      <th>fire</th>\n",
       "      <th>year</th>\n",
       "      <th>temp</th>\n",
       "      <th>humidity</th>\n",
       "      <th>rainfall</th>\n",
       "      <th>drought_code</th>\n",
       "      <th>buildup_index</th>\n",
       "      <th>day</th>\n",
       "      <th>month</th>\n",
       "      <th>wind_speed</th>\n",
       "    </tr>\n",
       "  </thead>\n",
       "  <tbody>\n",
       "    <tr>\n",
       "      <th>0</th>\n",
       "      <td>no</td>\n",
       "      <td>2015</td>\n",
       "      <td>28</td>\n",
       "      <td>59</td>\n",
       "      <td>0.0</td>\n",
       "      <td>8.06</td>\n",
       "      <td>3.47</td>\n",
       "      <td>1</td>\n",
       "      <td>6</td>\n",
       "      <td>19</td>\n",
       "    </tr>\n",
       "    <tr>\n",
       "      <th>1</th>\n",
       "      <td>no</td>\n",
       "      <td>2010</td>\n",
       "      <td>30</td>\n",
       "      <td>61</td>\n",
       "      <td>1.3</td>\n",
       "      <td>8.17</td>\n",
       "      <td>4.03</td>\n",
       "      <td>2</td>\n",
       "      <td>6</td>\n",
       "      <td>13</td>\n",
       "    </tr>\n",
       "    <tr>\n",
       "      <th>2</th>\n",
       "      <td>no</td>\n",
       "      <td>2009</td>\n",
       "      <td>26</td>\n",
       "      <td>83</td>\n",
       "      <td>13.1</td>\n",
       "      <td>8.08</td>\n",
       "      <td>3.59</td>\n",
       "      <td>3</td>\n",
       "      <td>6</td>\n",
       "      <td>22</td>\n",
       "    </tr>\n",
       "    <tr>\n",
       "      <th>3</th>\n",
       "      <td>no</td>\n",
       "      <td>2017</td>\n",
       "      <td>25</td>\n",
       "      <td>87</td>\n",
       "      <td>2.5</td>\n",
       "      <td>7.18</td>\n",
       "      <td>2.42</td>\n",
       "      <td>4</td>\n",
       "      <td>6</td>\n",
       "      <td>15</td>\n",
       "    </tr>\n",
       "    <tr>\n",
       "      <th>4</th>\n",
       "      <td>no</td>\n",
       "      <td>2014</td>\n",
       "      <td>28</td>\n",
       "      <td>77</td>\n",
       "      <td>0.0</td>\n",
       "      <td>14.98</td>\n",
       "      <td>4.63</td>\n",
       "      <td>5</td>\n",
       "      <td>6</td>\n",
       "      <td>18</td>\n",
       "    </tr>\n",
       "    <tr>\n",
       "      <th>5</th>\n",
       "      <td>yes</td>\n",
       "      <td>2008</td>\n",
       "      <td>30</td>\n",
       "      <td>67</td>\n",
       "      <td>0.0</td>\n",
       "      <td>22.71</td>\n",
       "      <td>7.97</td>\n",
       "      <td>6</td>\n",
       "      <td>6</td>\n",
       "      <td>14</td>\n",
       "    </tr>\n",
       "    <tr>\n",
       "      <th>6</th>\n",
       "      <td>yes</td>\n",
       "      <td>2013</td>\n",
       "      <td>32</td>\n",
       "      <td>52</td>\n",
       "      <td>0.0</td>\n",
       "      <td>30.98</td>\n",
       "      <td>11.86</td>\n",
       "      <td>7</td>\n",
       "      <td>6</td>\n",
       "      <td>14</td>\n",
       "    </tr>\n",
       "    <tr>\n",
       "      <th>7</th>\n",
       "      <td>yes</td>\n",
       "      <td>2009</td>\n",
       "      <td>29</td>\n",
       "      <td>72</td>\n",
       "      <td>0.0</td>\n",
       "      <td>38.66</td>\n",
       "      <td>14.31</td>\n",
       "      <td>8</td>\n",
       "      <td>6</td>\n",
       "      <td>17</td>\n",
       "    </tr>\n",
       "    <tr>\n",
       "      <th>8</th>\n",
       "      <td>no</td>\n",
       "      <td>2014</td>\n",
       "      <td>26</td>\n",
       "      <td>89</td>\n",
       "      <td>0.2</td>\n",
       "      <td>39.62</td>\n",
       "      <td>10.76</td>\n",
       "      <td>9</td>\n",
       "      <td>6</td>\n",
       "      <td>15</td>\n",
       "    </tr>\n",
       "    <tr>\n",
       "      <th>9</th>\n",
       "      <td>no</td>\n",
       "      <td>2007</td>\n",
       "      <td>28</td>\n",
       "      <td>77</td>\n",
       "      <td>0.0</td>\n",
       "      <td>46.44</td>\n",
       "      <td>13.14</td>\n",
       "      <td>10</td>\n",
       "      <td>6</td>\n",
       "      <td>13</td>\n",
       "    </tr>\n",
       "    <tr>\n",
       "      <th>10</th>\n",
       "      <td>yes</td>\n",
       "      <td>2015</td>\n",
       "      <td>30</td>\n",
       "      <td>67</td>\n",
       "      <td>0.0</td>\n",
       "      <td>54.44</td>\n",
       "      <td>16.10</td>\n",
       "      <td>11</td>\n",
       "      <td>6</td>\n",
       "      <td>15</td>\n",
       "    </tr>\n",
       "    <tr>\n",
       "      <th>11</th>\n",
       "      <td>yes</td>\n",
       "      <td>2009</td>\n",
       "      <td>26</td>\n",
       "      <td>81</td>\n",
       "      <td>0.0</td>\n",
       "      <td>61.80</td>\n",
       "      <td>18.33</td>\n",
       "      <td>12</td>\n",
       "      <td>6</td>\n",
       "      <td>19</td>\n",
       "    </tr>\n",
       "    <tr>\n",
       "      <th>12</th>\n",
       "      <td>no</td>\n",
       "      <td>2009</td>\n",
       "      <td>28</td>\n",
       "      <td>82</td>\n",
       "      <td>1.2</td>\n",
       "      <td>17.68</td>\n",
       "      <td>7.44</td>\n",
       "      <td>13</td>\n",
       "      <td>6</td>\n",
       "      <td>22</td>\n",
       "    </tr>\n",
       "    <tr>\n",
       "      <th>13</th>\n",
       "      <td>no</td>\n",
       "      <td>2011</td>\n",
       "      <td>31</td>\n",
       "      <td>80</td>\n",
       "      <td>0.5</td>\n",
       "      <td>7.98</td>\n",
       "      <td>4.53</td>\n",
       "      <td>14</td>\n",
       "      <td>6</td>\n",
       "      <td>21</td>\n",
       "    </tr>\n",
       "    <tr>\n",
       "      <th>14</th>\n",
       "      <td>no</td>\n",
       "      <td>2016</td>\n",
       "      <td>29</td>\n",
       "      <td>78</td>\n",
       "      <td>3.1</td>\n",
       "      <td>7.78</td>\n",
       "      <td>3.31</td>\n",
       "      <td>15</td>\n",
       "      <td>6</td>\n",
       "      <td>17</td>\n",
       "    </tr>\n",
       "    <tr>\n",
       "      <th>15</th>\n",
       "      <td>no</td>\n",
       "      <td>2010</td>\n",
       "      <td>30</td>\n",
       "      <td>88</td>\n",
       "      <td>0.7</td>\n",
       "      <td>7.93</td>\n",
       "      <td>2.92</td>\n",
       "      <td>16</td>\n",
       "      <td>6</td>\n",
       "      <td>13</td>\n",
       "    </tr>\n",
       "    <tr>\n",
       "      <th>16</th>\n",
       "      <td>no</td>\n",
       "      <td>2016</td>\n",
       "      <td>30</td>\n",
       "      <td>89</td>\n",
       "      <td>0.6</td>\n",
       "      <td>8.57</td>\n",
       "      <td>1.71</td>\n",
       "      <td>17</td>\n",
       "      <td>6</td>\n",
       "      <td>17</td>\n",
       "    </tr>\n",
       "    <tr>\n",
       "      <th>17</th>\n",
       "      <td>no</td>\n",
       "      <td>2011</td>\n",
       "      <td>30</td>\n",
       "      <td>78</td>\n",
       "      <td>0.3</td>\n",
       "      <td>8.31</td>\n",
       "      <td>2.44</td>\n",
       "      <td>18</td>\n",
       "      <td>6</td>\n",
       "      <td>14</td>\n",
       "    </tr>\n",
       "    <tr>\n",
       "      <th>18</th>\n",
       "      <td>no</td>\n",
       "      <td>2015</td>\n",
       "      <td>30</td>\n",
       "      <td>56</td>\n",
       "      <td>0.1</td>\n",
       "      <td>16.90</td>\n",
       "      <td>5.94</td>\n",
       "      <td>19</td>\n",
       "      <td>6</td>\n",
       "      <td>16</td>\n",
       "    </tr>\n",
       "    <tr>\n",
       "      <th>19</th>\n",
       "      <td>no</td>\n",
       "      <td>2008</td>\n",
       "      <td>29</td>\n",
       "      <td>80</td>\n",
       "      <td>0.4</td>\n",
       "      <td>27.73</td>\n",
       "      <td>5.38</td>\n",
       "      <td>20</td>\n",
       "      <td>6</td>\n",
       "      <td>16</td>\n",
       "    </tr>\n",
       "  </tbody>\n",
       "</table>\n",
       "</div>"
      ],
      "text/plain": [
       "   fire  year  temp  humidity  rainfall  drought_code  buildup_index  day  \\\n",
       "0    no  2015    28        59       0.0          8.06           3.47    1   \n",
       "1    no  2010    30        61       1.3          8.17           4.03    2   \n",
       "2    no  2009    26        83      13.1          8.08           3.59    3   \n",
       "3    no  2017    25        87       2.5          7.18           2.42    4   \n",
       "4    no  2014    28        77       0.0         14.98           4.63    5   \n",
       "5   yes  2008    30        67       0.0         22.71           7.97    6   \n",
       "6   yes  2013    32        52       0.0         30.98          11.86    7   \n",
       "7   yes  2009    29        72       0.0         38.66          14.31    8   \n",
       "8    no  2014    26        89       0.2         39.62          10.76    9   \n",
       "9    no  2007    28        77       0.0         46.44          13.14   10   \n",
       "10  yes  2015    30        67       0.0         54.44          16.10   11   \n",
       "11  yes  2009    26        81       0.0         61.80          18.33   12   \n",
       "12   no  2009    28        82       1.2         17.68           7.44   13   \n",
       "13   no  2011    31        80       0.5          7.98           4.53   14   \n",
       "14   no  2016    29        78       3.1          7.78           3.31   15   \n",
       "15   no  2010    30        88       0.7          7.93           2.92   16   \n",
       "16   no  2016    30        89       0.6          8.57           1.71   17   \n",
       "17   no  2011    30        78       0.3          8.31           2.44   18   \n",
       "18   no  2015    30        56       0.1         16.90           5.94   19   \n",
       "19   no  2008    29        80       0.4         27.73           5.38   20   \n",
       "\n",
       "    month  wind_speed  \n",
       "0       6          19  \n",
       "1       6          13  \n",
       "2       6          22  \n",
       "3       6          15  \n",
       "4       6          18  \n",
       "5       6          14  \n",
       "6       6          14  \n",
       "7       6          17  \n",
       "8       6          15  \n",
       "9       6          13  \n",
       "10      6          15  \n",
       "11      6          19  \n",
       "12      6          22  \n",
       "13      6          21  \n",
       "14      6          17  \n",
       "15      6          13  \n",
       "16      6          17  \n",
       "17      6          14  \n",
       "18      6          16  \n",
       "19      6          16  "
      ]
     },
     "execution_count": 106,
     "metadata": {},
     "output_type": "execute_result"
    }
   ],
   "source": [
    "data.head(20)"
   ]
  },
  {
   "cell_type": "code",
   "execution_count": 107,
   "id": "1a87609a",
   "metadata": {},
   "outputs": [
    {
     "name": "stdout",
     "output_type": "stream",
     "text": [
      "<class 'pandas.core.frame.DataFrame'>\n",
      "RangeIndex: 204 entries, 0 to 203\n",
      "Data columns (total 10 columns):\n",
      " #   Column         Non-Null Count  Dtype  \n",
      "---  ------         --------------  -----  \n",
      " 0   fire           204 non-null    object \n",
      " 1   year           204 non-null    int64  \n",
      " 2   temp           204 non-null    int64  \n",
      " 3   humidity       204 non-null    int64  \n",
      " 4   rainfall       204 non-null    float64\n",
      " 5   drought_code   204 non-null    float64\n",
      " 6   buildup_index  204 non-null    float64\n",
      " 7   day            204 non-null    int64  \n",
      " 8   month          204 non-null    int64  \n",
      " 9   wind_speed     204 non-null    int64  \n",
      "dtypes: float64(3), int64(6), object(1)\n",
      "memory usage: 16.1+ KB\n"
     ]
    }
   ],
   "source": [
    "data.info()"
   ]
  },
  {
   "cell_type": "code",
   "execution_count": 108,
   "id": "82c8548f",
   "metadata": {},
   "outputs": [],
   "source": [
    "from sklearn.preprocessing import StandardScaler"
   ]
  },
  {
   "cell_type": "code",
   "execution_count": 109,
   "id": "a33cf801",
   "metadata": {},
   "outputs": [],
   "source": [
    "scaler = StandardScaler()"
   ]
  },
  {
   "cell_type": "code",
   "execution_count": 110,
   "id": "cf59648b",
   "metadata": {},
   "outputs": [],
   "source": [
    "data['fire_type'] = pd.factorize(data['fire'])[0]"
   ]
  },
  {
   "cell_type": "code",
   "execution_count": 111,
   "id": "4441c0c2",
   "metadata": {},
   "outputs": [
    {
     "data": {
      "text/html": [
       "<div>\n",
       "<style scoped>\n",
       "    .dataframe tbody tr th:only-of-type {\n",
       "        vertical-align: middle;\n",
       "    }\n",
       "\n",
       "    .dataframe tbody tr th {\n",
       "        vertical-align: top;\n",
       "    }\n",
       "\n",
       "    .dataframe thead th {\n",
       "        text-align: right;\n",
       "    }\n",
       "</style>\n",
       "<table border=\"1\" class=\"dataframe\">\n",
       "  <thead>\n",
       "    <tr style=\"text-align: right;\">\n",
       "      <th></th>\n",
       "      <th>fire</th>\n",
       "      <th>year</th>\n",
       "      <th>temp</th>\n",
       "      <th>humidity</th>\n",
       "      <th>rainfall</th>\n",
       "      <th>drought_code</th>\n",
       "      <th>buildup_index</th>\n",
       "      <th>day</th>\n",
       "      <th>month</th>\n",
       "      <th>wind_speed</th>\n",
       "      <th>fire_type</th>\n",
       "    </tr>\n",
       "  </thead>\n",
       "  <tbody>\n",
       "    <tr>\n",
       "      <th>0</th>\n",
       "      <td>no</td>\n",
       "      <td>2015</td>\n",
       "      <td>28</td>\n",
       "      <td>59</td>\n",
       "      <td>0.0</td>\n",
       "      <td>8.06</td>\n",
       "      <td>3.47</td>\n",
       "      <td>1</td>\n",
       "      <td>6</td>\n",
       "      <td>19</td>\n",
       "      <td>0</td>\n",
       "    </tr>\n",
       "    <tr>\n",
       "      <th>1</th>\n",
       "      <td>no</td>\n",
       "      <td>2010</td>\n",
       "      <td>30</td>\n",
       "      <td>61</td>\n",
       "      <td>1.3</td>\n",
       "      <td>8.17</td>\n",
       "      <td>4.03</td>\n",
       "      <td>2</td>\n",
       "      <td>6</td>\n",
       "      <td>13</td>\n",
       "      <td>0</td>\n",
       "    </tr>\n",
       "    <tr>\n",
       "      <th>2</th>\n",
       "      <td>no</td>\n",
       "      <td>2009</td>\n",
       "      <td>26</td>\n",
       "      <td>83</td>\n",
       "      <td>13.1</td>\n",
       "      <td>8.08</td>\n",
       "      <td>3.59</td>\n",
       "      <td>3</td>\n",
       "      <td>6</td>\n",
       "      <td>22</td>\n",
       "      <td>0</td>\n",
       "    </tr>\n",
       "    <tr>\n",
       "      <th>3</th>\n",
       "      <td>no</td>\n",
       "      <td>2017</td>\n",
       "      <td>25</td>\n",
       "      <td>87</td>\n",
       "      <td>2.5</td>\n",
       "      <td>7.18</td>\n",
       "      <td>2.42</td>\n",
       "      <td>4</td>\n",
       "      <td>6</td>\n",
       "      <td>15</td>\n",
       "      <td>0</td>\n",
       "    </tr>\n",
       "    <tr>\n",
       "      <th>4</th>\n",
       "      <td>no</td>\n",
       "      <td>2014</td>\n",
       "      <td>28</td>\n",
       "      <td>77</td>\n",
       "      <td>0.0</td>\n",
       "      <td>14.98</td>\n",
       "      <td>4.63</td>\n",
       "      <td>5</td>\n",
       "      <td>6</td>\n",
       "      <td>18</td>\n",
       "      <td>0</td>\n",
       "    </tr>\n",
       "    <tr>\n",
       "      <th>5</th>\n",
       "      <td>yes</td>\n",
       "      <td>2008</td>\n",
       "      <td>30</td>\n",
       "      <td>67</td>\n",
       "      <td>0.0</td>\n",
       "      <td>22.71</td>\n",
       "      <td>7.97</td>\n",
       "      <td>6</td>\n",
       "      <td>6</td>\n",
       "      <td>14</td>\n",
       "      <td>1</td>\n",
       "    </tr>\n",
       "    <tr>\n",
       "      <th>6</th>\n",
       "      <td>yes</td>\n",
       "      <td>2013</td>\n",
       "      <td>32</td>\n",
       "      <td>52</td>\n",
       "      <td>0.0</td>\n",
       "      <td>30.98</td>\n",
       "      <td>11.86</td>\n",
       "      <td>7</td>\n",
       "      <td>6</td>\n",
       "      <td>14</td>\n",
       "      <td>1</td>\n",
       "    </tr>\n",
       "    <tr>\n",
       "      <th>7</th>\n",
       "      <td>yes</td>\n",
       "      <td>2009</td>\n",
       "      <td>29</td>\n",
       "      <td>72</td>\n",
       "      <td>0.0</td>\n",
       "      <td>38.66</td>\n",
       "      <td>14.31</td>\n",
       "      <td>8</td>\n",
       "      <td>6</td>\n",
       "      <td>17</td>\n",
       "      <td>1</td>\n",
       "    </tr>\n",
       "    <tr>\n",
       "      <th>8</th>\n",
       "      <td>no</td>\n",
       "      <td>2014</td>\n",
       "      <td>26</td>\n",
       "      <td>89</td>\n",
       "      <td>0.2</td>\n",
       "      <td>39.62</td>\n",
       "      <td>10.76</td>\n",
       "      <td>9</td>\n",
       "      <td>6</td>\n",
       "      <td>15</td>\n",
       "      <td>0</td>\n",
       "    </tr>\n",
       "    <tr>\n",
       "      <th>9</th>\n",
       "      <td>no</td>\n",
       "      <td>2007</td>\n",
       "      <td>28</td>\n",
       "      <td>77</td>\n",
       "      <td>0.0</td>\n",
       "      <td>46.44</td>\n",
       "      <td>13.14</td>\n",
       "      <td>10</td>\n",
       "      <td>6</td>\n",
       "      <td>13</td>\n",
       "      <td>0</td>\n",
       "    </tr>\n",
       "  </tbody>\n",
       "</table>\n",
       "</div>"
      ],
      "text/plain": [
       "  fire  year  temp  humidity  rainfall  drought_code  buildup_index  day  \\\n",
       "0   no  2015    28        59       0.0          8.06           3.47    1   \n",
       "1   no  2010    30        61       1.3          8.17           4.03    2   \n",
       "2   no  2009    26        83      13.1          8.08           3.59    3   \n",
       "3   no  2017    25        87       2.5          7.18           2.42    4   \n",
       "4   no  2014    28        77       0.0         14.98           4.63    5   \n",
       "5  yes  2008    30        67       0.0         22.71           7.97    6   \n",
       "6  yes  2013    32        52       0.0         30.98          11.86    7   \n",
       "7  yes  2009    29        72       0.0         38.66          14.31    8   \n",
       "8   no  2014    26        89       0.2         39.62          10.76    9   \n",
       "9   no  2007    28        77       0.0         46.44          13.14   10   \n",
       "\n",
       "   month  wind_speed  fire_type  \n",
       "0      6          19          0  \n",
       "1      6          13          0  \n",
       "2      6          22          0  \n",
       "3      6          15          0  \n",
       "4      6          18          0  \n",
       "5      6          14          1  \n",
       "6      6          14          1  \n",
       "7      6          17          1  \n",
       "8      6          15          0  \n",
       "9      6          13          0  "
      ]
     },
     "execution_count": 111,
     "metadata": {},
     "output_type": "execute_result"
    }
   ],
   "source": [
    "data.head(10)"
   ]
  },
  {
   "cell_type": "code",
   "execution_count": 112,
   "id": "e59825f9",
   "metadata": {},
   "outputs": [
    {
     "data": {
      "text/html": [
       "<div>\n",
       "<style scoped>\n",
       "    .dataframe tbody tr th:only-of-type {\n",
       "        vertical-align: middle;\n",
       "    }\n",
       "\n",
       "    .dataframe tbody tr th {\n",
       "        vertical-align: top;\n",
       "    }\n",
       "\n",
       "    .dataframe thead th {\n",
       "        text-align: right;\n",
       "    }\n",
       "</style>\n",
       "<table border=\"1\" class=\"dataframe\">\n",
       "  <thead>\n",
       "    <tr style=\"text-align: right;\">\n",
       "      <th></th>\n",
       "      <th>year</th>\n",
       "      <th>temp</th>\n",
       "      <th>humidity</th>\n",
       "      <th>rainfall</th>\n",
       "      <th>drought_code</th>\n",
       "      <th>buildup_index</th>\n",
       "      <th>day</th>\n",
       "      <th>month</th>\n",
       "      <th>wind_speed</th>\n",
       "    </tr>\n",
       "  </thead>\n",
       "  <tbody>\n",
       "    <tr>\n",
       "      <th>0</th>\n",
       "      <td>2015</td>\n",
       "      <td>28</td>\n",
       "      <td>59</td>\n",
       "      <td>0.0</td>\n",
       "      <td>8.06</td>\n",
       "      <td>3.47</td>\n",
       "      <td>1</td>\n",
       "      <td>6</td>\n",
       "      <td>19</td>\n",
       "    </tr>\n",
       "    <tr>\n",
       "      <th>1</th>\n",
       "      <td>2010</td>\n",
       "      <td>30</td>\n",
       "      <td>61</td>\n",
       "      <td>1.3</td>\n",
       "      <td>8.17</td>\n",
       "      <td>4.03</td>\n",
       "      <td>2</td>\n",
       "      <td>6</td>\n",
       "      <td>13</td>\n",
       "    </tr>\n",
       "    <tr>\n",
       "      <th>2</th>\n",
       "      <td>2009</td>\n",
       "      <td>26</td>\n",
       "      <td>83</td>\n",
       "      <td>13.1</td>\n",
       "      <td>8.08</td>\n",
       "      <td>3.59</td>\n",
       "      <td>3</td>\n",
       "      <td>6</td>\n",
       "      <td>22</td>\n",
       "    </tr>\n",
       "    <tr>\n",
       "      <th>3</th>\n",
       "      <td>2017</td>\n",
       "      <td>25</td>\n",
       "      <td>87</td>\n",
       "      <td>2.5</td>\n",
       "      <td>7.18</td>\n",
       "      <td>2.42</td>\n",
       "      <td>4</td>\n",
       "      <td>6</td>\n",
       "      <td>15</td>\n",
       "    </tr>\n",
       "    <tr>\n",
       "      <th>4</th>\n",
       "      <td>2014</td>\n",
       "      <td>28</td>\n",
       "      <td>77</td>\n",
       "      <td>0.0</td>\n",
       "      <td>14.98</td>\n",
       "      <td>4.63</td>\n",
       "      <td>5</td>\n",
       "      <td>6</td>\n",
       "      <td>18</td>\n",
       "    </tr>\n",
       "    <tr>\n",
       "      <th>...</th>\n",
       "      <td>...</td>\n",
       "      <td>...</td>\n",
       "      <td>...</td>\n",
       "      <td>...</td>\n",
       "      <td>...</td>\n",
       "      <td>...</td>\n",
       "      <td>...</td>\n",
       "      <td>...</td>\n",
       "      <td>...</td>\n",
       "    </tr>\n",
       "    <tr>\n",
       "      <th>199</th>\n",
       "      <td>2017</td>\n",
       "      <td>31</td>\n",
       "      <td>67</td>\n",
       "      <td>0.0</td>\n",
       "      <td>45.15</td>\n",
       "      <td>17.89</td>\n",
       "      <td>26</td>\n",
       "      <td>9</td>\n",
       "      <td>15</td>\n",
       "    </tr>\n",
       "    <tr>\n",
       "      <th>200</th>\n",
       "      <td>2017</td>\n",
       "      <td>29</td>\n",
       "      <td>89</td>\n",
       "      <td>4.4</td>\n",
       "      <td>8.74</td>\n",
       "      <td>6.52</td>\n",
       "      <td>27</td>\n",
       "      <td>9</td>\n",
       "      <td>15</td>\n",
       "    </tr>\n",
       "    <tr>\n",
       "      <th>201</th>\n",
       "      <td>2009</td>\n",
       "      <td>27</td>\n",
       "      <td>88</td>\n",
       "      <td>0.5</td>\n",
       "      <td>8.87</td>\n",
       "      <td>3.71</td>\n",
       "      <td>28</td>\n",
       "      <td>9</td>\n",
       "      <td>30</td>\n",
       "    </tr>\n",
       "    <tr>\n",
       "      <th>202</th>\n",
       "      <td>2016</td>\n",
       "      <td>25</td>\n",
       "      <td>56</td>\n",
       "      <td>0.1</td>\n",
       "      <td>15.54</td>\n",
       "      <td>6.10</td>\n",
       "      <td>29</td>\n",
       "      <td>9</td>\n",
       "      <td>20</td>\n",
       "    </tr>\n",
       "    <tr>\n",
       "      <th>203</th>\n",
       "      <td>2012</td>\n",
       "      <td>24</td>\n",
       "      <td>62</td>\n",
       "      <td>0.2</td>\n",
       "      <td>16.72</td>\n",
       "      <td>5.75</td>\n",
       "      <td>30</td>\n",
       "      <td>9</td>\n",
       "      <td>17</td>\n",
       "    </tr>\n",
       "  </tbody>\n",
       "</table>\n",
       "<p>204 rows × 9 columns</p>\n",
       "</div>"
      ],
      "text/plain": [
       "     year  temp  humidity  rainfall  drought_code  buildup_index  day  month  \\\n",
       "0    2015    28        59       0.0          8.06           3.47    1      6   \n",
       "1    2010    30        61       1.3          8.17           4.03    2      6   \n",
       "2    2009    26        83      13.1          8.08           3.59    3      6   \n",
       "3    2017    25        87       2.5          7.18           2.42    4      6   \n",
       "4    2014    28        77       0.0         14.98           4.63    5      6   \n",
       "..    ...   ...       ...       ...           ...            ...  ...    ...   \n",
       "199  2017    31        67       0.0         45.15          17.89   26      9   \n",
       "200  2017    29        89       4.4          8.74           6.52   27      9   \n",
       "201  2009    27        88       0.5          8.87           3.71   28      9   \n",
       "202  2016    25        56       0.1         15.54           6.10   29      9   \n",
       "203  2012    24        62       0.2         16.72           5.75   30      9   \n",
       "\n",
       "     wind_speed  \n",
       "0            19  \n",
       "1            13  \n",
       "2            22  \n",
       "3            15  \n",
       "4            18  \n",
       "..          ...  \n",
       "199          15  \n",
       "200          15  \n",
       "201          30  \n",
       "202          20  \n",
       "203          17  \n",
       "\n",
       "[204 rows x 9 columns]"
      ]
     },
     "execution_count": 112,
     "metadata": {},
     "output_type": "execute_result"
    }
   ],
   "source": [
    "X = data.drop(['fire','fire_type'],axis = 1)\n",
    "X"
   ]
  },
  {
   "cell_type": "code",
   "execution_count": 113,
   "id": "03a8a941",
   "metadata": {},
   "outputs": [
    {
     "data": {
      "text/plain": [
       "1    107\n",
       "0     97\n",
       "Name: fire_type, dtype: int64"
      ]
     },
     "execution_count": 113,
     "metadata": {},
     "output_type": "execute_result"
    }
   ],
   "source": [
    "y = data['fire_type']\n",
    "y.value_counts()"
   ]
  },
  {
   "cell_type": "code",
   "execution_count": 114,
   "id": "a860ab69",
   "metadata": {},
   "outputs": [],
   "source": [
    "from sklearn.preprocessing import StandardScaler\n",
    "scaler = StandardScaler()"
   ]
  },
  {
   "cell_type": "code",
   "execution_count": 115,
   "id": "03939d1e",
   "metadata": {},
   "outputs": [],
   "source": [
    "from sklearn.model_selection import train_test_split"
   ]
  },
  {
   "cell_type": "code",
   "execution_count": 116,
   "id": "cf7814c3",
   "metadata": {},
   "outputs": [],
   "source": [
    "X_train, X_test, y_train, y_test = train_test_split(X, y, test_size=0.33, stratify = y, random_state = 42)"
   ]
  },
  {
   "cell_type": "code",
   "execution_count": 117,
   "id": "26bcfb85",
   "metadata": {},
   "outputs": [],
   "source": [
    "X_train = scaler.fit_transform(X_train)\n",
    "X_test = scaler.transform(X_test)"
   ]
  },
  {
   "cell_type": "code",
   "execution_count": 118,
   "id": "c709e2a9",
   "metadata": {},
   "outputs": [],
   "source": [
    "class Perceptron:\n",
    "\n",
    "  #1. Define an initial constructor\n",
    "  def __init__ (self, learning_rate = 0.1, n_iters = 1000):\n",
    "    self.weights = None\n",
    "    self.bias = None\n",
    "    self.iterations = n_iters\n",
    "    self.learning_rate = learning_rate\n",
    "    \n",
    "  #sigmoid function\n",
    "  def sigmoid(self, x):\n",
    "    return (1.0 / (1.0 + np.exp(-x)))   #Reference: https://www.digitalocean.com/community/tutorials/sigmoid-activation-function-python\n",
    "\n",
    "  #Classification based on comparison between activation result and bias\n",
    "  def classifier(self, activation):\n",
    "    threshold = self.bias\n",
    "    if activation <= threshold:\n",
    "      return 0\n",
    "    else:\n",
    "      return 1\n",
    "\n",
    "  #Train the single neural node using the fit method to make it ready for use ahead\n",
    "  def fit(self, X, Y):\n",
    "    #Making an array of ones for each column in the dataframe\n",
    "    self.weights = np.random.rand(X.shape[1]) \n",
    "\n",
    "    #Initial assignment of bias to calculate further\n",
    "    self.bias = 0\n",
    "    \n",
    "    #Iterating for 'n_iters' time to adjust weight and bias each time we fit the data\n",
    "    for i in range(self.iterations):\n",
    "      for row, label in zip(X, Y):\n",
    "        result = self.sigmoid(np.dot(self.weights, row) + self.bias)\n",
    "        y_pred = self.classifier(result)\n",
    "\n",
    "        #To minimise error, we adjust the weights and the bias according to the learning rate\n",
    "        if label == 1 and y_pred == 0:\n",
    "          self.weights = self.weights + self.learning_rate * row\n",
    "          self.bias = self.bias - self.learning_rate * 1\n",
    "        elif label == 0 and y_pred == 1:\n",
    "          self.weights = self.weights - self.learning_rate * row\n",
    "          self.bias = self.bias + self.learning_rate * 1\n",
    "    \n",
    "    return self\n",
    "\n",
    "  #Defining the predict method to pass new data and calculating labels for them using the existing model\n",
    "  def predict(self, new_data):\n",
    "    #List to hold the predictions given for 'n' rows of data\n",
    "    predictions = []\n",
    "    self.pred_proba = []\n",
    "\n",
    "    #Predicting label for each row and appending it to the list\n",
    "    for row in new_data:\n",
    "      result = self.sigmoid(np.dot(self.weights, row) + self.bias)\n",
    "      self.pred_proba.append(result)\n",
    "      predictions.append(self.classifier(result))\n",
    "    \n",
    "    #Returning an Numpy Array of predictions\n",
    "    return np.array(predictions)"
   ]
  },
  {
   "cell_type": "code",
   "execution_count": 119,
   "id": "64c47828",
   "metadata": {},
   "outputs": [],
   "source": [
    "per = Perceptron()\n",
    "slp = Perceptron()"
   ]
  },
  {
   "cell_type": "code",
   "execution_count": 120,
   "id": "b01c457b",
   "metadata": {},
   "outputs": [],
   "source": [
    "cv = StratifiedKFold(n_splits = 5, random_state = 42, shuffle = True)"
   ]
  },
  {
   "cell_type": "code",
   "execution_count": 121,
   "id": "57076e78",
   "metadata": {},
   "outputs": [],
   "source": [
    "y_train, y_test = np.array(y_train), np.array(y_test)"
   ]
  },
  {
   "cell_type": "code",
   "execution_count": 122,
   "id": "5f6e07e3",
   "metadata": {},
   "outputs": [
    {
     "name": "stdout",
     "output_type": "stream",
     "text": [
      "Scores: [0.8928571428571429, 0.9259259259259259, 0.7777777777777778, 0.8888888888888888, 0.8148148148148148]\n",
      "Best Score: 0.9259259259259259\n",
      "Model Taken: <__main__.Perceptron object at 0x00000284913E8210>\n"
     ]
    }
   ],
   "source": [
    "scores = []\n",
    "validate = 0\n",
    "for train, test in cv.split(X_train, y_train):\n",
    "    per.fit(X_train[train], y_train[train])\n",
    "    score = accuracy_score(y_train[test], per.predict(X_train[test]))\n",
    "    scores.append(score)\n",
    "    for i in scores:\n",
    "        if i > validate:\n",
    "            validate = i\n",
    "            slp = per.fit(X_train[train],y_train[train])\n",
    "\n",
    "print(f\"Scores: {scores}\")\n",
    "print(f\"Best Score: {validate}\")\n",
    "print(f\"Model Taken: {slp}\")\n"
   ]
  },
  {
   "cell_type": "code",
   "execution_count": 123,
   "id": "07627739",
   "metadata": {},
   "outputs": [],
   "source": [
    "y_pred = slp.predict(X_test)\n",
    "y_pred_proba = slp.pred_proba"
   ]
  },
  {
   "cell_type": "code",
   "execution_count": 124,
   "id": "4620777e",
   "metadata": {},
   "outputs": [
    {
     "name": "stdout",
     "output_type": "stream",
     "text": [
      "[0 1 1 0 1 1 0 1 1 1 1 1 1 1 0 0 0 0 0 1 1 1 1 1 1 1 1 1 1 1 1 0 0 0 0 1 0\n",
      " 1 1 0 1 1 0 1 1 1 0 1 1 1 1 1 1 1 0 1 1 1 0 0 0 1 0 1 0 1 1 1]\n"
     ]
    }
   ],
   "source": [
    "print(y_pred)"
   ]
  },
  {
   "cell_type": "code",
   "execution_count": 125,
   "id": "266b3999",
   "metadata": {},
   "outputs": [
    {
     "name": "stdout",
     "output_type": "stream",
     "text": [
      "Accuracy Score: 0.8529411764705882 \n",
      "\n"
     ]
    }
   ],
   "source": [
    "print(f\"Accuracy Score: {accuracy_score(y_test, y_pred)} \\n\")"
   ]
  },
  {
   "cell_type": "code",
   "execution_count": 126,
   "id": "e38fe3c7",
   "metadata": {},
   "outputs": [
    {
     "name": "stdout",
     "output_type": "stream",
     "text": [
      "              precision    recall  f1-score   support\n",
      "\n",
      "           0       1.00      0.69      0.81        32\n",
      "           1       0.78      1.00      0.88        36\n",
      "\n",
      "    accuracy                           0.85        68\n",
      "   macro avg       0.89      0.84      0.85        68\n",
      "weighted avg       0.88      0.85      0.85        68\n",
      "\n"
     ]
    }
   ],
   "source": [
    "print(classification_report(y_test, y_pred))"
   ]
  },
  {
   "cell_type": "code",
   "execution_count": 127,
   "id": "6c9173f5",
   "metadata": {},
   "outputs": [
    {
     "data": {
      "text/plain": [
       "<AxesSubplot: >"
      ]
     },
     "execution_count": 127,
     "metadata": {},
     "output_type": "execute_result"
    },
    {
     "data": {
      "image/png": "[encoded data removed]",
      "text/plain": [
       "<Figure size 640x480 with 2 Axes>"
      ]
     },
     "metadata": {},
     "output_type": "display_data"
    }
   ],
   "source": [
    "cf_matrix = confusion_matrix(y_test,y_pred)\n",
    "sns.heatmap(cf_matrix, annot = True)"
   ]
  },
  {
   "cell_type": "code",
   "execution_count": 128,
   "id": "fde0b8d4",
   "metadata": {},
   "outputs": [
    {
     "data": {
      "text/plain": [
       "[<matplotlib.lines.Line2D at 0x284927b7a90>]"
      ]
     },
     "execution_count": 128,
     "metadata": {},
     "output_type": "execute_result"
    },
    {
     "data": {
      "image/png": "[encoded data removed]",
      "text/plain": [
       "<Figure size 640x480 with 1 Axes>"
      ]
     },
     "metadata": {},
     "output_type": "display_data"
    }
   ],
   "source": [
    "false_positive_rate, true_positive_rate, threshold = roc_curve(y_test, y_pred_proba)\n",
    "plt.plot(false_positive_rate, true_positive_rate)"
   ]
  },
  {
   "cell_type": "markdown",
   "id": "5a23c47a",
   "metadata": {},
   "source": [
    "Implementing Logistic Regression using Scikit Learn and comparing the output"
   ]
  },
  {
   "cell_type": "code",
   "execution_count": 129,
   "id": "e125b4fd",
   "metadata": {},
   "outputs": [],
   "source": [
    "from sklearn.linear_model import LogisticRegression"
   ]
  },
  {
   "cell_type": "code",
   "execution_count": 130,
   "id": "8d3b35b1",
   "metadata": {},
   "outputs": [],
   "source": [
    "log = LogisticRegression()"
   ]
  },
  {
   "cell_type": "code",
   "execution_count": 131,
   "id": "4e4ba8b0",
   "metadata": {},
   "outputs": [
    {
     "data": {
      "text/html": [
       "<style>#sk-container-id-4 {color: black;background-color: white;}#sk-container-id-4 pre{padding: 0;}#sk-container-id-4 div.sk-toggleable {background-color: white;}#sk-container-id-4 label.sk-toggleable__label {cursor: pointer;display: block;width: 100%;margin-bottom: 0;padding: 0.3em;box-sizing: border-box;text-align: center;}#sk-container-id-4 label.sk-toggleable__label-arrow:before {content: \"▸\";float: left;margin-right: 0.25em;color: #696969;}#sk-container-id-4 label.sk-toggleable__label-arrow:hover:before {color: black;}#sk-container-id-4 div.sk-estimator:hover label.sk-toggleable__label-arrow:before {color: black;}#sk-container-id-4 div.sk-toggleable__content {max-height: 0;max-width: 0;overflow: hidden;text-align: left;background-color: #f0f8ff;}#sk-container-id-4 div.sk-toggleable__content pre {margin: 0.2em;color: black;border-radius: 0.25em;background-color: #f0f8ff;}#sk-container-id-4 input.sk-toggleable__control:checked~div.sk-toggleable__content {max-height: 200px;max-width: 100%;overflow: auto;}#sk-container-id-4 input.sk-toggleable__control:checked~label.sk-toggleable__label-arrow:before {content: \"▾\";}#sk-container-id-4 div.sk-estimator input.sk-toggleable__control:checked~label.sk-toggleable__label {background-color: #d4ebff;}#sk-container-id-4 div.sk-label input.sk-toggleable__control:checked~label.sk-toggleable__label {background-color: #d4ebff;}#sk-container-id-4 input.sk-hidden--visually {border: 0;clip: rect(1px 1px 1px 1px);clip: rect(1px, 1px, 1px, 1px);height: 1px;margin: -1px;overflow: hidden;padding: 0;position: absolute;width: 1px;}#sk-container-id-4 div.sk-estimator {font-family: monospace;background-color: #f0f8ff;border: 1px dotted black;border-radius: 0.25em;box-sizing: border-box;margin-bottom: 0.5em;}#sk-container-id-4 div.sk-estimator:hover {background-color: #d4ebff;}#sk-container-id-4 div.sk-parallel-item::after {content: \"\";width: 100%;border-bottom: 1px solid gray;flex-grow: 1;}#sk-container-id-4 div.sk-label:hover label.sk-toggleable__label {background-color: #d4ebff;}#sk-container-id-4 div.sk-serial::before {content: \"\";position: absolute;border-left: 1px solid gray;box-sizing: border-box;top: 0;bottom: 0;left: 50%;z-index: 0;}#sk-container-id-4 div.sk-serial {display: flex;flex-direction: column;align-items: center;background-color: white;padding-right: 0.2em;padding-left: 0.2em;position: relative;}#sk-container-id-4 div.sk-item {position: relative;z-index: 1;}#sk-container-id-4 div.sk-parallel {display: flex;align-items: stretch;justify-content: center;background-color: white;position: relative;}#sk-container-id-4 div.sk-item::before, #sk-container-id-4 div.sk-parallel-item::before {content: \"\";position: absolute;border-left: 1px solid gray;box-sizing: border-box;top: 0;bottom: 0;left: 50%;z-index: -1;}#sk-container-id-4 div.sk-parallel-item {display: flex;flex-direction: column;z-index: 1;position: relative;background-color: white;}#sk-container-id-4 div.sk-parallel-item:first-child::after {align-self: flex-end;width: 50%;}#sk-container-id-4 div.sk-parallel-item:last-child::after {align-self: flex-start;width: 50%;}#sk-container-id-4 div.sk-parallel-item:only-child::after {width: 0;}#sk-container-id-4 div.sk-dashed-wrapped {border: 1px dashed gray;margin: 0 0.4em 0.5em 0.4em;box-sizing: border-box;padding-bottom: 0.4em;background-color: white;}#sk-container-id-4 div.sk-label label {font-family: monospace;font-weight: bold;display: inline-block;line-height: 1.2em;}#sk-container-id-4 div.sk-label-container {text-align: center;}#sk-container-id-4 div.sk-container {/* jupyter's `normalize.less` sets `[hidden] { display: none; }` but bootstrap.min.css set `[hidden] { display: none !important; }` so we also need the `!important` here to be able to override the default hidden behavior on the sphinx rendered scikit-learn.org. See: https://github.com/scikit-learn/scikit-learn/issues/21755 */display: inline-block !important;position: relative;}#sk-container-id-4 div.sk-text-repr-fallback {display: none;}</style><div id=\"sk-container-id-4\" class=\"sk-top-container\"><div class=\"sk-text-repr-fallback\"><pre>LogisticRegression()</pre><b>In a Jupyter environment, please rerun this cell to show the HTML representation or trust the notebook. <br />On GitHub, the HTML representation is unable to render, please try loading this page with nbviewer.org.</b></div><div class=\"sk-container\" hidden><div class=\"sk-item\"><div class=\"sk-estimator sk-toggleable\"><input class=\"sk-toggleable__control sk-hidden--visually\" id=\"sk-estimator-id-4\" type=\"checkbox\" checked><label for=\"sk-estimator-id-4\" class=\"sk-toggleable__label sk-toggleable__label-arrow\">LogisticRegression</label><div class=\"sk-toggleable__content\"><pre>LogisticRegression()</pre></div></div></div></div></div>"
      ],
      "text/plain": [
       "LogisticRegression()"
      ]
     },
     "execution_count": 131,
     "metadata": {},
     "output_type": "execute_result"
    }
   ],
   "source": [
    "log.fit(X_train, y_train)"
   ]
  },
  {
   "cell_type": "code",
   "execution_count": 132,
   "id": "01b5fcfe",
   "metadata": {},
   "outputs": [
    {
     "name": "stdout",
     "output_type": "stream",
     "text": [
      "[0 1 1 0 1 1 0 1 1 1 1 1 1 1 0 0 0 0 0 1 1 1 1 0 1 1 0 1 0 1 0 1 0 0 0 1 0\n",
      " 1 1 0 0 1 0 0 1 1 0 1 1 0 0 1 1 0 1 1 0 0 0 0 0 1 0 0 0 1 0 1]\n"
     ]
    }
   ],
   "source": [
    "log_pred = log.predict(X_test)\n",
    "print(log_pred)"
   ]
  },
  {
   "cell_type": "code",
   "execution_count": 133,
   "id": "c9e71868",
   "metadata": {},
   "outputs": [
    {
     "name": "stdout",
     "output_type": "stream",
     "text": [
      "Accuracy Score: 0.7794117647058824 \n",
      "\n"
     ]
    }
   ],
   "source": [
    "print(f\"Accuracy Score: {accuracy_score(y_test, log_pred)} \\n\")"
   ]
  },
  {
   "cell_type": "code",
   "execution_count": 134,
   "id": "441dfa09",
   "metadata": {},
   "outputs": [
    {
     "name": "stdout",
     "output_type": "stream",
     "text": [
      "              precision    recall  f1-score   support\n",
      "\n",
      "           0       0.76      0.78      0.77        32\n",
      "           1       0.80      0.78      0.79        36\n",
      "\n",
      "    accuracy                           0.78        68\n",
      "   macro avg       0.78      0.78      0.78        68\n",
      "weighted avg       0.78      0.78      0.78        68\n",
      "\n"
     ]
    }
   ],
   "source": [
    "print(classification_report(y_test, log_pred))"
   ]
  },
  {
   "cell_type": "code",
   "execution_count": 135,
   "id": "23b92c02",
   "metadata": {},
   "outputs": [
    {
     "data": {
      "text/plain": [
       "<AxesSubplot: >"
      ]
     },
     "execution_count": 135,
     "metadata": {},
     "output_type": "execute_result"
    },
    {
     "data": {
      "image/png": "[encoded data removed]",
      "text/plain": [
       "<Figure size 640x480 with 2 Axes>"
      ]
     },
     "metadata": {},
     "output_type": "display_data"
    }
   ],
   "source": [
    "cf_matrix = confusion_matrix(y_test,log_pred)\n",
    "sns.heatmap(cf_matrix, annot = True)"
   ]
  },
  {
   "cell_type": "code",
   "execution_count": 136,
   "id": "5e53a788",
   "metadata": {},
   "outputs": [],
   "source": [
    "log_pred_proba = log.predict_proba(X_test)[:,1]"
   ]
  },
  {
   "cell_type": "code",
   "execution_count": 137,
   "id": "2766daae",
   "metadata": {},
   "outputs": [
    {
     "data": {
      "text/plain": [
       "[<matplotlib.lines.Line2D at 0x28492c2fa90>]"
      ]
     },
     "execution_count": 137,
     "metadata": {},
     "output_type": "execute_result"
    },
    {
     "data": {
      "image/png": "[encoded data removed]",
      "text/plain": [
       "<Figure size 640x480 with 1 Axes>"
      ]
     },
     "metadata": {},
     "output_type": "display_data"
    }
   ],
   "source": [
    "false_positive_rate, true_positive_rate, threshold = roc_curve(y_test, log_pred_proba)\n",
    "plt.plot(false_positive_rate, true_positive_rate)"
   ]
  }
 ],
 "metadata": {
  "kernelspec": {
   "display_name": "Python 3 (ipykernel)",
   "language": "python",
   "name": "python3"
  },
  "language_info": {
   "codemirror_mode": {
    "name": "ipython",
    "version": 3
   },
   "file_extension": ".py",
   "mimetype": "text/x-python",
   "name": "python",
   "nbconvert_exporter": "python",
   "pygments_lexer": "ipython3",
   "version": "3.11.0"
  },
  "vscode": {
   "interpreter": {
    "hash": "895965ff89e31dbb8817b13ea40d8d3de3483b91af9cca7b5616b48a8b2876f6"
   }
  }
 },
 "nbformat": 4,
 "nbformat_minor": 5
}
