{
 "cells": [
  {
   "cell_type": "code",
   "execution_count": 1,
   "id": "95cde958",
   "metadata": {},
   "outputs": [],
   "source": [
    "import numpy as np\n",
    "import pandas as pd\n",
    "import matplotlib.pyplot as plt\n",
    "import seaborn as sns\n",
    "from sklearn.metrics import accuracy_score, classification_report, confusion_matrix, roc_curve\n",
    "from sklearn.model_selection import StratifiedKFold\n",
    "import warnings\n",
    "\n",
    "warnings.filterwarnings('ignore')\n",
    "np.random.seed(42)"
   ]
  },
  {
   "cell_type": "code",
   "execution_count": 2,
   "id": "a88ac82b",
   "metadata": {
    "scrolled": true
   },
   "outputs": [],
   "source": [
    "data = pd.read_excel('wildfires.xlsx')"
   ]
  },
  {
   "cell_type": "code",
   "execution_count": 3,
   "id": "8280f79c",
   "metadata": {},
   "outputs": [
    {
     "data": {
      "text/html": [
       "<div>\n",
       "<style scoped>\n",
       "    .dataframe tbody tr th:only-of-type {\n",
       "        vertical-align: middle;\n",
       "    }\n",
       "\n",
       "    .dataframe tbody tr th {\n",
       "        vertical-align: top;\n",
       "    }\n",
       "\n",
       "    .dataframe thead th {\n",
       "        text-align: right;\n",
       "    }\n",
       "</style>\n",
       "<table border=\"1\" class=\"dataframe\">\n",
       "  <thead>\n",
       "    <tr style=\"text-align: right;\">\n",
       "      <th></th>\n",
       "      <th>fire</th>\n",
       "      <th>year</th>\n",
       "      <th>temp</th>\n",
       "      <th>humidity</th>\n",
       "      <th>rainfall</th>\n",
       "      <th>drought_code</th>\n",
       "      <th>buildup_index</th>\n",
       "      <th>day</th>\n",
       "      <th>month</th>\n",
       "      <th>wind_speed</th>\n",
       "    </tr>\n",
       "  </thead>\n",
       "  <tbody>\n",
       "    <tr>\n",
       "      <th>0</th>\n",
       "      <td>no</td>\n",
       "      <td>2015</td>\n",
       "      <td>28</td>\n",
       "      <td>59</td>\n",
       "      <td>0.0</td>\n",
       "      <td>8.06</td>\n",
       "      <td>3.47</td>\n",
       "      <td>1</td>\n",
       "      <td>6</td>\n",
       "      <td>19</td>\n",
       "    </tr>\n",
       "    <tr>\n",
       "      <th>1</th>\n",
       "      <td>no</td>\n",
       "      <td>2010</td>\n",
       "      <td>30</td>\n",
       "      <td>61</td>\n",
       "      <td>1.3</td>\n",
       "      <td>8.17</td>\n",
       "      <td>4.03</td>\n",
       "      <td>2</td>\n",
       "      <td>6</td>\n",
       "      <td>13</td>\n",
       "    </tr>\n",
       "    <tr>\n",
       "      <th>2</th>\n",
       "      <td>no</td>\n",
       "      <td>2009</td>\n",
       "      <td>26</td>\n",
       "      <td>83</td>\n",
       "      <td>13.1</td>\n",
       "      <td>8.08</td>\n",
       "      <td>3.59</td>\n",
       "      <td>3</td>\n",
       "      <td>6</td>\n",
       "      <td>22</td>\n",
       "    </tr>\n",
       "    <tr>\n",
       "      <th>3</th>\n",
       "      <td>no</td>\n",
       "      <td>2017</td>\n",
       "      <td>25</td>\n",
       "      <td>87</td>\n",
       "      <td>2.5</td>\n",
       "      <td>7.18</td>\n",
       "      <td>2.42</td>\n",
       "      <td>4</td>\n",
       "      <td>6</td>\n",
       "      <td>15</td>\n",
       "    </tr>\n",
       "    <tr>\n",
       "      <th>4</th>\n",
       "      <td>no</td>\n",
       "      <td>2014</td>\n",
       "      <td>28</td>\n",
       "      <td>77</td>\n",
       "      <td>0.0</td>\n",
       "      <td>14.98</td>\n",
       "      <td>4.63</td>\n",
       "      <td>5</td>\n",
       "      <td>6</td>\n",
       "      <td>18</td>\n",
       "    </tr>\n",
       "    <tr>\n",
       "      <th>5</th>\n",
       "      <td>yes</td>\n",
       "      <td>2008</td>\n",
       "      <td>30</td>\n",
       "      <td>67</td>\n",
       "      <td>0.0</td>\n",
       "      <td>22.71</td>\n",
       "      <td>7.97</td>\n",
       "      <td>6</td>\n",
       "      <td>6</td>\n",
       "      <td>14</td>\n",
       "    </tr>\n",
       "    <tr>\n",
       "      <th>6</th>\n",
       "      <td>yes</td>\n",
       "      <td>2013</td>\n",
       "      <td>32</td>\n",
       "      <td>52</td>\n",
       "      <td>0.0</td>\n",
       "      <td>30.98</td>\n",
       "      <td>11.86</td>\n",
       "      <td>7</td>\n",
       "      <td>6</td>\n",
       "      <td>14</td>\n",
       "    </tr>\n",
       "    <tr>\n",
       "      <th>7</th>\n",
       "      <td>yes</td>\n",
       "      <td>2009</td>\n",
       "      <td>29</td>\n",
       "      <td>72</td>\n",
       "      <td>0.0</td>\n",
       "      <td>38.66</td>\n",
       "      <td>14.31</td>\n",
       "      <td>8</td>\n",
       "      <td>6</td>\n",
       "      <td>17</td>\n",
       "    </tr>\n",
       "    <tr>\n",
       "      <th>8</th>\n",
       "      <td>no</td>\n",
       "      <td>2014</td>\n",
       "      <td>26</td>\n",
       "      <td>89</td>\n",
       "      <td>0.2</td>\n",
       "      <td>39.62</td>\n",
       "      <td>10.76</td>\n",
       "      <td>9</td>\n",
       "      <td>6</td>\n",
       "      <td>15</td>\n",
       "    </tr>\n",
       "    <tr>\n",
       "      <th>9</th>\n",
       "      <td>no</td>\n",
       "      <td>2007</td>\n",
       "      <td>28</td>\n",
       "      <td>77</td>\n",
       "      <td>0.0</td>\n",
       "      <td>46.44</td>\n",
       "      <td>13.14</td>\n",
       "      <td>10</td>\n",
       "      <td>6</td>\n",
       "      <td>13</td>\n",
       "    </tr>\n",
       "    <tr>\n",
       "      <th>10</th>\n",
       "      <td>yes</td>\n",
       "      <td>2015</td>\n",
       "      <td>30</td>\n",
       "      <td>67</td>\n",
       "      <td>0.0</td>\n",
       "      <td>54.44</td>\n",
       "      <td>16.10</td>\n",
       "      <td>11</td>\n",
       "      <td>6</td>\n",
       "      <td>15</td>\n",
       "    </tr>\n",
       "    <tr>\n",
       "      <th>11</th>\n",
       "      <td>yes</td>\n",
       "      <td>2009</td>\n",
       "      <td>26</td>\n",
       "      <td>81</td>\n",
       "      <td>0.0</td>\n",
       "      <td>61.80</td>\n",
       "      <td>18.33</td>\n",
       "      <td>12</td>\n",
       "      <td>6</td>\n",
       "      <td>19</td>\n",
       "    </tr>\n",
       "    <tr>\n",
       "      <th>12</th>\n",
       "      <td>no</td>\n",
       "      <td>2009</td>\n",
       "      <td>28</td>\n",
       "      <td>82</td>\n",
       "      <td>1.2</td>\n",
       "      <td>17.68</td>\n",
       "      <td>7.44</td>\n",
       "      <td>13</td>\n",
       "      <td>6</td>\n",
       "      <td>22</td>\n",
       "    </tr>\n",
       "    <tr>\n",
       "      <th>13</th>\n",
       "      <td>no</td>\n",
       "      <td>2011</td>\n",
       "      <td>31</td>\n",
       "      <td>80</td>\n",
       "      <td>0.5</td>\n",
       "      <td>7.98</td>\n",
       "      <td>4.53</td>\n",
       "      <td>14</td>\n",
       "      <td>6</td>\n",
       "      <td>21</td>\n",
       "    </tr>\n",
       "    <tr>\n",
       "      <th>14</th>\n",
       "      <td>no</td>\n",
       "      <td>2016</td>\n",
       "      <td>29</td>\n",
       "      <td>78</td>\n",
       "      <td>3.1</td>\n",
       "      <td>7.78</td>\n",
       "      <td>3.31</td>\n",
       "      <td>15</td>\n",
       "      <td>6</td>\n",
       "      <td>17</td>\n",
       "    </tr>\n",
       "    <tr>\n",
       "      <th>15</th>\n",
       "      <td>no</td>\n",
       "      <td>2010</td>\n",
       "      <td>30</td>\n",
       "      <td>88</td>\n",
       "      <td>0.7</td>\n",
       "      <td>7.93</td>\n",
       "      <td>2.92</td>\n",
       "      <td>16</td>\n",
       "      <td>6</td>\n",
       "      <td>13</td>\n",
       "    </tr>\n",
       "    <tr>\n",
       "      <th>16</th>\n",
       "      <td>no</td>\n",
       "      <td>2016</td>\n",
       "      <td>30</td>\n",
       "      <td>89</td>\n",
       "      <td>0.6</td>\n",
       "      <td>8.57</td>\n",
       "      <td>1.71</td>\n",
       "      <td>17</td>\n",
       "      <td>6</td>\n",
       "      <td>17</td>\n",
       "    </tr>\n",
       "    <tr>\n",
       "      <th>17</th>\n",
       "      <td>no</td>\n",
       "      <td>2011</td>\n",
       "      <td>30</td>\n",
       "      <td>78</td>\n",
       "      <td>0.3</td>\n",
       "      <td>8.31</td>\n",
       "      <td>2.44</td>\n",
       "      <td>18</td>\n",
       "      <td>6</td>\n",
       "      <td>14</td>\n",
       "    </tr>\n",
       "    <tr>\n",
       "      <th>18</th>\n",
       "      <td>no</td>\n",
       "      <td>2015</td>\n",
       "      <td>30</td>\n",
       "      <td>56</td>\n",
       "      <td>0.1</td>\n",
       "      <td>16.90</td>\n",
       "      <td>5.94</td>\n",
       "      <td>19</td>\n",
       "      <td>6</td>\n",
       "      <td>16</td>\n",
       "    </tr>\n",
       "    <tr>\n",
       "      <th>19</th>\n",
       "      <td>no</td>\n",
       "      <td>2008</td>\n",
       "      <td>29</td>\n",
       "      <td>80</td>\n",
       "      <td>0.4</td>\n",
       "      <td>27.73</td>\n",
       "      <td>5.38</td>\n",
       "      <td>20</td>\n",
       "      <td>6</td>\n",
       "      <td>16</td>\n",
       "    </tr>\n",
       "  </tbody>\n",
       "</table>\n",
       "</div>"
      ],
      "text/plain": [
       "   fire  year  temp  humidity  rainfall  drought_code  buildup_index  day  \\\n",
       "0    no  2015    28        59       0.0          8.06           3.47    1   \n",
       "1    no  2010    30        61       1.3          8.17           4.03    2   \n",
       "2    no  2009    26        83      13.1          8.08           3.59    3   \n",
       "3    no  2017    25        87       2.5          7.18           2.42    4   \n",
       "4    no  2014    28        77       0.0         14.98           4.63    5   \n",
       "5   yes  2008    30        67       0.0         22.71           7.97    6   \n",
       "6   yes  2013    32        52       0.0         30.98          11.86    7   \n",
       "7   yes  2009    29        72       0.0         38.66          14.31    8   \n",
       "8    no  2014    26        89       0.2         39.62          10.76    9   \n",
       "9    no  2007    28        77       0.0         46.44          13.14   10   \n",
       "10  yes  2015    30        67       0.0         54.44          16.10   11   \n",
       "11  yes  2009    26        81       0.0         61.80          18.33   12   \n",
       "12   no  2009    28        82       1.2         17.68           7.44   13   \n",
       "13   no  2011    31        80       0.5          7.98           4.53   14   \n",
       "14   no  2016    29        78       3.1          7.78           3.31   15   \n",
       "15   no  2010    30        88       0.7          7.93           2.92   16   \n",
       "16   no  2016    30        89       0.6          8.57           1.71   17   \n",
       "17   no  2011    30        78       0.3          8.31           2.44   18   \n",
       "18   no  2015    30        56       0.1         16.90           5.94   19   \n",
       "19   no  2008    29        80       0.4         27.73           5.38   20   \n",
       "\n",
       "    month  wind_speed  \n",
       "0       6          19  \n",
       "1       6          13  \n",
       "2       6          22  \n",
       "3       6          15  \n",
       "4       6          18  \n",
       "5       6          14  \n",
       "6       6          14  \n",
       "7       6          17  \n",
       "8       6          15  \n",
       "9       6          13  \n",
       "10      6          15  \n",
       "11      6          19  \n",
       "12      6          22  \n",
       "13      6          21  \n",
       "14      6          17  \n",
       "15      6          13  \n",
       "16      6          17  \n",
       "17      6          14  \n",
       "18      6          16  \n",
       "19      6          16  "
      ]
     },
     "execution_count": 3,
     "metadata": {},
     "output_type": "execute_result"
    }
   ],
   "source": [
    "data.head(20)"
   ]
  },
  {
   "cell_type": "code",
   "execution_count": 4,
   "id": "1a87609a",
   "metadata": {},
   "outputs": [
    {
     "name": "stdout",
     "output_type": "stream",
     "text": [
      "<class 'pandas.core.frame.DataFrame'>\n",
      "RangeIndex: 204 entries, 0 to 203\n",
      "Data columns (total 10 columns):\n",
      " #   Column         Non-Null Count  Dtype  \n",
      "---  ------         --------------  -----  \n",
      " 0   fire           204 non-null    object \n",
      " 1   year           204 non-null    int64  \n",
      " 2   temp           204 non-null    int64  \n",
      " 3   humidity       204 non-null    int64  \n",
      " 4   rainfall       204 non-null    float64\n",
      " 5   drought_code   204 non-null    float64\n",
      " 6   buildup_index  204 non-null    float64\n",
      " 7   day            204 non-null    int64  \n",
      " 8   month          204 non-null    int64  \n",
      " 9   wind_speed     204 non-null    int64  \n",
      "dtypes: float64(3), int64(6), object(1)\n",
      "memory usage: 16.1+ KB\n"
     ]
    }
   ],
   "source": [
    "data.info()"
   ]
  },
  {
   "cell_type": "code",
   "execution_count": 5,
   "id": "82c8548f",
   "metadata": {},
   "outputs": [],
   "source": [
    "from sklearn.preprocessing import StandardScaler"
   ]
  },
  {
   "cell_type": "code",
   "execution_count": 6,
   "id": "a33cf801",
   "metadata": {},
   "outputs": [],
   "source": [
    "scaler = StandardScaler()"
   ]
  },
  {
   "cell_type": "code",
   "execution_count": 7,
   "id": "cf59648b",
   "metadata": {},
   "outputs": [],
   "source": [
    "data['fire_type'] = pd.factorize(data['fire'])[0]"
   ]
  },
  {
   "cell_type": "code",
   "execution_count": 8,
   "id": "4441c0c2",
   "metadata": {},
   "outputs": [
    {
     "data": {
      "text/html": [
       "<div>\n",
       "<style scoped>\n",
       "    .dataframe tbody tr th:only-of-type {\n",
       "        vertical-align: middle;\n",
       "    }\n",
       "\n",
       "    .dataframe tbody tr th {\n",
       "        vertical-align: top;\n",
       "    }\n",
       "\n",
       "    .dataframe thead th {\n",
       "        text-align: right;\n",
       "    }\n",
       "</style>\n",
       "<table border=\"1\" class=\"dataframe\">\n",
       "  <thead>\n",
       "    <tr style=\"text-align: right;\">\n",
       "      <th></th>\n",
       "      <th>fire</th>\n",
       "      <th>year</th>\n",
       "      <th>temp</th>\n",
       "      <th>humidity</th>\n",
       "      <th>rainfall</th>\n",
       "      <th>drought_code</th>\n",
       "      <th>buildup_index</th>\n",
       "      <th>day</th>\n",
       "      <th>month</th>\n",
       "      <th>wind_speed</th>\n",
       "      <th>fire_type</th>\n",
       "    </tr>\n",
       "  </thead>\n",
       "  <tbody>\n",
       "    <tr>\n",
       "      <th>0</th>\n",
       "      <td>no</td>\n",
       "      <td>2015</td>\n",
       "      <td>28</td>\n",
       "      <td>59</td>\n",
       "      <td>0.0</td>\n",
       "      <td>8.06</td>\n",
       "      <td>3.47</td>\n",
       "      <td>1</td>\n",
       "      <td>6</td>\n",
       "      <td>19</td>\n",
       "      <td>0</td>\n",
       "    </tr>\n",
       "    <tr>\n",
       "      <th>1</th>\n",
       "      <td>no</td>\n",
       "      <td>2010</td>\n",
       "      <td>30</td>\n",
       "      <td>61</td>\n",
       "      <td>1.3</td>\n",
       "      <td>8.17</td>\n",
       "      <td>4.03</td>\n",
       "      <td>2</td>\n",
       "      <td>6</td>\n",
       "      <td>13</td>\n",
       "      <td>0</td>\n",
       "    </tr>\n",
       "    <tr>\n",
       "      <th>2</th>\n",
       "      <td>no</td>\n",
       "      <td>2009</td>\n",
       "      <td>26</td>\n",
       "      <td>83</td>\n",
       "      <td>13.1</td>\n",
       "      <td>8.08</td>\n",
       "      <td>3.59</td>\n",
       "      <td>3</td>\n",
       "      <td>6</td>\n",
       "      <td>22</td>\n",
       "      <td>0</td>\n",
       "    </tr>\n",
       "    <tr>\n",
       "      <th>3</th>\n",
       "      <td>no</td>\n",
       "      <td>2017</td>\n",
       "      <td>25</td>\n",
       "      <td>87</td>\n",
       "      <td>2.5</td>\n",
       "      <td>7.18</td>\n",
       "      <td>2.42</td>\n",
       "      <td>4</td>\n",
       "      <td>6</td>\n",
       "      <td>15</td>\n",
       "      <td>0</td>\n",
       "    </tr>\n",
       "    <tr>\n",
       "      <th>4</th>\n",
       "      <td>no</td>\n",
       "      <td>2014</td>\n",
       "      <td>28</td>\n",
       "      <td>77</td>\n",
       "      <td>0.0</td>\n",
       "      <td>14.98</td>\n",
       "      <td>4.63</td>\n",
       "      <td>5</td>\n",
       "      <td>6</td>\n",
       "      <td>18</td>\n",
       "      <td>0</td>\n",
       "    </tr>\n",
       "    <tr>\n",
       "      <th>5</th>\n",
       "      <td>yes</td>\n",
       "      <td>2008</td>\n",
       "      <td>30</td>\n",
       "      <td>67</td>\n",
       "      <td>0.0</td>\n",
       "      <td>22.71</td>\n",
       "      <td>7.97</td>\n",
       "      <td>6</td>\n",
       "      <td>6</td>\n",
       "      <td>14</td>\n",
       "      <td>1</td>\n",
       "    </tr>\n",
       "    <tr>\n",
       "      <th>6</th>\n",
       "      <td>yes</td>\n",
       "      <td>2013</td>\n",
       "      <td>32</td>\n",
       "      <td>52</td>\n",
       "      <td>0.0</td>\n",
       "      <td>30.98</td>\n",
       "      <td>11.86</td>\n",
       "      <td>7</td>\n",
       "      <td>6</td>\n",
       "      <td>14</td>\n",
       "      <td>1</td>\n",
       "    </tr>\n",
       "    <tr>\n",
       "      <th>7</th>\n",
       "      <td>yes</td>\n",
       "      <td>2009</td>\n",
       "      <td>29</td>\n",
       "      <td>72</td>\n",
       "      <td>0.0</td>\n",
       "      <td>38.66</td>\n",
       "      <td>14.31</td>\n",
       "      <td>8</td>\n",
       "      <td>6</td>\n",
       "      <td>17</td>\n",
       "      <td>1</td>\n",
       "    </tr>\n",
       "    <tr>\n",
       "      <th>8</th>\n",
       "      <td>no</td>\n",
       "      <td>2014</td>\n",
       "      <td>26</td>\n",
       "      <td>89</td>\n",
       "      <td>0.2</td>\n",
       "      <td>39.62</td>\n",
       "      <td>10.76</td>\n",
       "      <td>9</td>\n",
       "      <td>6</td>\n",
       "      <td>15</td>\n",
       "      <td>0</td>\n",
       "    </tr>\n",
       "    <tr>\n",
       "      <th>9</th>\n",
       "      <td>no</td>\n",
       "      <td>2007</td>\n",
       "      <td>28</td>\n",
       "      <td>77</td>\n",
       "      <td>0.0</td>\n",
       "      <td>46.44</td>\n",
       "      <td>13.14</td>\n",
       "      <td>10</td>\n",
       "      <td>6</td>\n",
       "      <td>13</td>\n",
       "      <td>0</td>\n",
       "    </tr>\n",
       "  </tbody>\n",
       "</table>\n",
       "</div>"
      ],
      "text/plain": [
       "  fire  year  temp  humidity  rainfall  drought_code  buildup_index  day  \\\n",
       "0   no  2015    28        59       0.0          8.06           3.47    1   \n",
       "1   no  2010    30        61       1.3          8.17           4.03    2   \n",
       "2   no  2009    26        83      13.1          8.08           3.59    3   \n",
       "3   no  2017    25        87       2.5          7.18           2.42    4   \n",
       "4   no  2014    28        77       0.0         14.98           4.63    5   \n",
       "5  yes  2008    30        67       0.0         22.71           7.97    6   \n",
       "6  yes  2013    32        52       0.0         30.98          11.86    7   \n",
       "7  yes  2009    29        72       0.0         38.66          14.31    8   \n",
       "8   no  2014    26        89       0.2         39.62          10.76    9   \n",
       "9   no  2007    28        77       0.0         46.44          13.14   10   \n",
       "\n",
       "   month  wind_speed  fire_type  \n",
       "0      6          19          0  \n",
       "1      6          13          0  \n",
       "2      6          22          0  \n",
       "3      6          15          0  \n",
       "4      6          18          0  \n",
       "5      6          14          1  \n",
       "6      6          14          1  \n",
       "7      6          17          1  \n",
       "8      6          15          0  \n",
       "9      6          13          0  "
      ]
     },
     "execution_count": 8,
     "metadata": {},
     "output_type": "execute_result"
    }
   ],
   "source": [
    "data.head(10)"
   ]
  },
  {
   "cell_type": "code",
   "execution_count": 9,
   "id": "e59825f9",
   "metadata": {},
   "outputs": [
    {
     "data": {
      "text/html": [
       "<div>\n",
       "<style scoped>\n",
       "    .dataframe tbody tr th:only-of-type {\n",
       "        vertical-align: middle;\n",
       "    }\n",
       "\n",
       "    .dataframe tbody tr th {\n",
       "        vertical-align: top;\n",
       "    }\n",
       "\n",
       "    .dataframe thead th {\n",
       "        text-align: right;\n",
       "    }\n",
       "</style>\n",
       "<table border=\"1\" class=\"dataframe\">\n",
       "  <thead>\n",
       "    <tr style=\"text-align: right;\">\n",
       "      <th></th>\n",
       "      <th>year</th>\n",
       "      <th>temp</th>\n",
       "      <th>humidity</th>\n",
       "      <th>rainfall</th>\n",
       "      <th>drought_code</th>\n",
       "      <th>buildup_index</th>\n",
       "      <th>day</th>\n",
       "      <th>month</th>\n",
       "      <th>wind_speed</th>\n",
       "    </tr>\n",
       "  </thead>\n",
       "  <tbody>\n",
       "    <tr>\n",
       "      <th>0</th>\n",
       "      <td>2015</td>\n",
       "      <td>28</td>\n",
       "      <td>59</td>\n",
       "      <td>0.0</td>\n",
       "      <td>8.06</td>\n",
       "      <td>3.47</td>\n",
       "      <td>1</td>\n",
       "      <td>6</td>\n",
       "      <td>19</td>\n",
       "    </tr>\n",
       "    <tr>\n",
       "      <th>1</th>\n",
       "      <td>2010</td>\n",
       "      <td>30</td>\n",
       "      <td>61</td>\n",
       "      <td>1.3</td>\n",
       "      <td>8.17</td>\n",
       "      <td>4.03</td>\n",
       "      <td>2</td>\n",
       "      <td>6</td>\n",
       "      <td>13</td>\n",
       "    </tr>\n",
       "    <tr>\n",
       "      <th>2</th>\n",
       "      <td>2009</td>\n",
       "      <td>26</td>\n",
       "      <td>83</td>\n",
       "      <td>13.1</td>\n",
       "      <td>8.08</td>\n",
       "      <td>3.59</td>\n",
       "      <td>3</td>\n",
       "      <td>6</td>\n",
       "      <td>22</td>\n",
       "    </tr>\n",
       "    <tr>\n",
       "      <th>3</th>\n",
       "      <td>2017</td>\n",
       "      <td>25</td>\n",
       "      <td>87</td>\n",
       "      <td>2.5</td>\n",
       "      <td>7.18</td>\n",
       "      <td>2.42</td>\n",
       "      <td>4</td>\n",
       "      <td>6</td>\n",
       "      <td>15</td>\n",
       "    </tr>\n",
       "    <tr>\n",
       "      <th>4</th>\n",
       "      <td>2014</td>\n",
       "      <td>28</td>\n",
       "      <td>77</td>\n",
       "      <td>0.0</td>\n",
       "      <td>14.98</td>\n",
       "      <td>4.63</td>\n",
       "      <td>5</td>\n",
       "      <td>6</td>\n",
       "      <td>18</td>\n",
       "    </tr>\n",
       "    <tr>\n",
       "      <th>...</th>\n",
       "      <td>...</td>\n",
       "      <td>...</td>\n",
       "      <td>...</td>\n",
       "      <td>...</td>\n",
       "      <td>...</td>\n",
       "      <td>...</td>\n",
       "      <td>...</td>\n",
       "      <td>...</td>\n",
       "      <td>...</td>\n",
       "    </tr>\n",
       "    <tr>\n",
       "      <th>199</th>\n",
       "      <td>2017</td>\n",
       "      <td>31</td>\n",
       "      <td>67</td>\n",
       "      <td>0.0</td>\n",
       "      <td>45.15</td>\n",
       "      <td>17.89</td>\n",
       "      <td>26</td>\n",
       "      <td>9</td>\n",
       "      <td>15</td>\n",
       "    </tr>\n",
       "    <tr>\n",
       "      <th>200</th>\n",
       "      <td>2017</td>\n",
       "      <td>29</td>\n",
       "      <td>89</td>\n",
       "      <td>4.4</td>\n",
       "      <td>8.74</td>\n",
       "      <td>6.52</td>\n",
       "      <td>27</td>\n",
       "      <td>9</td>\n",
       "      <td>15</td>\n",
       "    </tr>\n",
       "    <tr>\n",
       "      <th>201</th>\n",
       "      <td>2009</td>\n",
       "      <td>27</td>\n",
       "      <td>88</td>\n",
       "      <td>0.5</td>\n",
       "      <td>8.87</td>\n",
       "      <td>3.71</td>\n",
       "      <td>28</td>\n",
       "      <td>9</td>\n",
       "      <td>30</td>\n",
       "    </tr>\n",
       "    <tr>\n",
       "      <th>202</th>\n",
       "      <td>2016</td>\n",
       "      <td>25</td>\n",
       "      <td>56</td>\n",
       "      <td>0.1</td>\n",
       "      <td>15.54</td>\n",
       "      <td>6.10</td>\n",
       "      <td>29</td>\n",
       "      <td>9</td>\n",
       "      <td>20</td>\n",
       "    </tr>\n",
       "    <tr>\n",
       "      <th>203</th>\n",
       "      <td>2012</td>\n",
       "      <td>24</td>\n",
       "      <td>62</td>\n",
       "      <td>0.2</td>\n",
       "      <td>16.72</td>\n",
       "      <td>5.75</td>\n",
       "      <td>30</td>\n",
       "      <td>9</td>\n",
       "      <td>17</td>\n",
       "    </tr>\n",
       "  </tbody>\n",
       "</table>\n",
       "<p>204 rows × 9 columns</p>\n",
       "</div>"
      ],
      "text/plain": [
       "     year  temp  humidity  rainfall  drought_code  buildup_index  day  month  \\\n",
       "0    2015    28        59       0.0          8.06           3.47    1      6   \n",
       "1    2010    30        61       1.3          8.17           4.03    2      6   \n",
       "2    2009    26        83      13.1          8.08           3.59    3      6   \n",
       "3    2017    25        87       2.5          7.18           2.42    4      6   \n",
       "4    2014    28        77       0.0         14.98           4.63    5      6   \n",
       "..    ...   ...       ...       ...           ...            ...  ...    ...   \n",
       "199  2017    31        67       0.0         45.15          17.89   26      9   \n",
       "200  2017    29        89       4.4          8.74           6.52   27      9   \n",
       "201  2009    27        88       0.5          8.87           3.71   28      9   \n",
       "202  2016    25        56       0.1         15.54           6.10   29      9   \n",
       "203  2012    24        62       0.2         16.72           5.75   30      9   \n",
       "\n",
       "     wind_speed  \n",
       "0            19  \n",
       "1            13  \n",
       "2            22  \n",
       "3            15  \n",
       "4            18  \n",
       "..          ...  \n",
       "199          15  \n",
       "200          15  \n",
       "201          30  \n",
       "202          20  \n",
       "203          17  \n",
       "\n",
       "[204 rows x 9 columns]"
      ]
     },
     "execution_count": 9,
     "metadata": {},
     "output_type": "execute_result"
    }
   ],
   "source": [
    "X = data.drop(['fire','fire_type'],axis = 1)\n",
    "X"
   ]
  },
  {
   "cell_type": "code",
   "execution_count": 10,
   "id": "03a8a941",
   "metadata": {},
   "outputs": [
    {
     "data": {
      "text/plain": [
       "1    107\n",
       "0     97\n",
       "Name: fire_type, dtype: int64"
      ]
     },
     "execution_count": 10,
     "metadata": {},
     "output_type": "execute_result"
    }
   ],
   "source": [
    "y = data['fire_type']\n",
    "y.value_counts()"
   ]
  },
  {
   "cell_type": "code",
   "execution_count": 11,
   "id": "a860ab69",
   "metadata": {},
   "outputs": [],
   "source": [
    "from sklearn.preprocessing import StandardScaler\n",
    "scaler = StandardScaler()"
   ]
  },
  {
   "cell_type": "code",
   "execution_count": 12,
   "id": "03939d1e",
   "metadata": {},
   "outputs": [],
   "source": [
    "from sklearn.model_selection import train_test_split"
   ]
  },
  {
   "cell_type": "code",
   "execution_count": 13,
   "id": "cf7814c3",
   "metadata": {},
   "outputs": [],
   "source": [
    "X_train, X_test, y_train, y_test = train_test_split(X, y, test_size=0.33, stratify = y, random_state = 42)"
   ]
  },
  {
   "cell_type": "code",
   "execution_count": 14,
   "id": "26bcfb85",
   "metadata": {},
   "outputs": [],
   "source": [
    "X_train = scaler.fit_transform(X_train)\n",
    "X_test = scaler.transform(X_test)"
   ]
  },
  {
   "cell_type": "code",
   "execution_count": 15,
   "id": "c709e2a9",
   "metadata": {},
   "outputs": [],
   "source": [
    "class MultiLayerPerceptron():\n",
    "\n",
    "    def __init__(self, num_inputs=3, hidden_layers=[3, 3], num_outputs=2):\n",
    "        self.num_inputs = num_inputs\n",
    "        self.hidden_layers = hidden_layers\n",
    "        self.num_outputs = num_outputs\n",
    "\n",
    "        # create a generic representation of the layers\n",
    "        layers = [num_inputs] + hidden_layers + [num_outputs]\n",
    "\n",
    "        # create random connection weights for the layers\n",
    "        weights = []\n",
    "        for i in range(len(layers) - 1):\n",
    "            w = np.random.rand(layers[i], layers[i + 1])\n",
    "            weights.append(w)\n",
    "        self.weights = weights\n",
    "\n",
    "        # save derivatives per layer\n",
    "        derivatives = []\n",
    "        for i in range(len(layers) - 1):\n",
    "            d = np.zeros((layers[i], layers[i + 1]))\n",
    "            derivatives.append(d)\n",
    "        self.derivatives = derivatives\n",
    "\n",
    "        # save activations per layer\n",
    "        activations = []\n",
    "        for i in range(len(layers)):\n",
    "            a = np.zeros(layers[i])\n",
    "            activations.append(a)\n",
    "        self.activations = activations\n",
    "\n",
    "\n",
    "    def forward_propagate(self, inputs):\n",
    "       \n",
    "        # the input layer activation is just the input itself\n",
    "        activations = inputs\n",
    "\n",
    "        # save the activations for backpropogation\n",
    "        self.activations[0] = activations\n",
    "\n",
    "        # iterate through the network layers\n",
    "        for i in range(len(self.weights)):\n",
    "            # calculate matrix multiplication between previous activation and weight matrix\n",
    "            net_inputs = np.dot(activations, self.weights[i])\n",
    "\n",
    "            # apply sigmoid activation function\n",
    "            activations = self.sigmoid(net_inputs)\n",
    "\n",
    "            # save the activations for backpropogation\n",
    "            self.activations[i + 1] = activations\n",
    "\n",
    "        # return output layer activation\n",
    "        return activations\n",
    "\n",
    "    def back_propagate(self, error):\n",
    "        \n",
    "        # iterate backwards through the network layers\n",
    "        for i in reversed(range(len(self.derivatives))):\n",
    "\n",
    "            # get activation for previous layer\n",
    "            activations = self.activations[i+1]\n",
    "\n",
    "            # apply sigmoid derivative function\n",
    "            delta = error * self.sigmoid_derivative(activations)\n",
    "\n",
    "            # reshape delta as to have it as a 2d array\n",
    "            delta_re = delta.reshape(delta.shape[0], -1).T\n",
    "\n",
    "            # get activations for current layer\n",
    "            current_activations = self.activations[i]\n",
    "\n",
    "            # reshape activations as to have them as a 2d column matrix\n",
    "            current_activations = current_activations.reshape(current_activations.shape[0],-1)\n",
    "\n",
    "            # save derivative after applying matrix multiplication\n",
    "            self.derivatives[i] = np.dot(current_activations, delta_re)\n",
    "\n",
    "            # backpropogate the next error\n",
    "            error = np.dot(delta, self.weights[i].T)\n",
    "\n",
    "    #Gradient Descent, used for calculating weights by multiplying derivatives and\n",
    "    def gradient_descent(self, learningRate=1):\n",
    "        \n",
    "        # update the weights by stepping down the gradient\n",
    "        for i in range(len(self.weights)):\n",
    "            weights = self.weights[i]\n",
    "            derivatives = self.derivatives[i]\n",
    "            weights += derivatives * learningRate\n",
    "        \n",
    "    def classifier(self, x):\n",
    "        if x <= 0.5:\n",
    "            return 0\n",
    "        else:\n",
    "            return 1\n",
    "\n",
    "    #sigmoid function\n",
    "    def sigmoid(self, x):\n",
    "        return (1.0 / (1.0 + np.exp(-x)))   #Reference: https://www.digitalocean.com/community/tutorials/sigmoid-activation-function-python\n",
    "\n",
    "\n",
    "    def sigmoid_derivative(self, x):\n",
    "        return x * (1.0 - x)\n",
    "\n",
    "\n",
    "    def mse(self, target, output):\n",
    "        return np.average((target - output) ** 2)\n",
    "    \n",
    "\n",
    "    def fit(self, inputs, targets, epochs, learning_rate):\n",
    "        \n",
    "        \n",
    "        targets=targets.to_numpy()\n",
    "        \n",
    "        self.error_rate = []   \n",
    "        for i in range(epochs):\n",
    "            sum_errors = 0\n",
    "\n",
    "            # iterate through all the training data\n",
    "            for j, input in enumerate(inputs):\n",
    "                target = targets[j]\n",
    "\n",
    "                # activate the network!\n",
    "                output = self.forward_propagate(input)\n",
    "\n",
    "                error = target - output\n",
    "\n",
    "                self.back_propagate(error)\n",
    "\n",
    "                # now perform gradient descent on the derivatives\n",
    "                # (this will update the weights\n",
    "                self.gradient_descent(learning_rate)\n",
    "\n",
    "                # keep track of the MSE for reporting later\n",
    "                sum_errors += self.mse(target, output)\n",
    "\n",
    "            # Epoch complete, report the training error\n",
    "            self.error_rate.append(sum_errors / len(inputs))\n",
    "        \n",
    "        return self\n",
    "\n",
    "    def predict(self,new_data):\n",
    "        self.result = []\n",
    "        self.pred_proba = []\n",
    "        temp = self.forward_propagate(new_data)\n",
    "        \n",
    "\n",
    "        for i in temp:\n",
    "            for point in i:\n",
    "                self.pred_proba.append(point)\n",
    "                self.result.append(self.classifier(point))\n",
    "        \n",
    "        return np.array(self.result)"
   ]
  },
  {
   "cell_type": "code",
   "execution_count": 16,
   "id": "153dc4f6",
   "metadata": {},
   "outputs": [],
   "source": [
    "per = MultiLayerPerceptron(num_inputs = 9, hidden_layers = [3,3], num_outputs = 1)\n",
    "mlp = MultiLayerPerceptron(num_inputs = 9, hidden_layers = [3,3], num_outputs = 1)"
   ]
  },
  {
   "cell_type": "code",
   "execution_count": 17,
   "id": "7aec3552",
   "metadata": {},
   "outputs": [],
   "source": [
    "cv = StratifiedKFold(n_splits = 5, random_state = 42, shuffle = True)"
   ]
  },
  {
   "cell_type": "code",
   "execution_count": 18,
   "id": "80ce98ed",
   "metadata": {},
   "outputs": [],
   "source": [
    "y_train, y_test = np.array(y_train), np.array(y_test)"
   ]
  },
  {
   "cell_type": "code",
   "execution_count": 19,
   "id": "a61580f0",
   "metadata": {},
   "outputs": [
    {
     "name": "stdout",
     "output_type": "stream",
     "text": [
      "Scores: [0.7857142857142857, 0.9259259259259259, 0.9259259259259259, 0.9629629629629629, 0.9629629629629629]\n",
      "Best Score: 0.9629629629629629\n",
      "Model Taken: <__main__.MultiLayerPerceptron object at 0x00000142CBFA5AD0>\n"
     ]
    }
   ],
   "source": [
    "scores = []\n",
    "validate = 0\n",
    "X_new = None\n",
    "y_new = None        \n",
    "for train, test in cv.split(X_train, y_train):\n",
    "    per.fit(X_train[train], pd.DataFrame(y_train[train]), epochs = 1000, learning_rate = 0.1)\n",
    "    score = accuracy_score(y_train[test], per.predict(X_train[test]))\n",
    "    scores.append(score)\n",
    "    for i in scores:\n",
    "        if i > validate:\n",
    "            validate = i\n",
    "            X_new = X_train[train]\n",
    "            y_new = pd.DataFrame(y_train[train])\n",
    "mlp.fit(X_new, y_new, epochs = 1000, learning_rate = 0.1)\n",
    "\n",
    "print(f\"Scores: {scores}\")\n",
    "print(f\"Best Score: {validate}\")\n",
    "print(f\"Model Taken: {mlp}\")\n"
   ]
  },
  {
   "cell_type": "code",
   "execution_count": 20,
   "id": "c19b7229",
   "metadata": {},
   "outputs": [
    {
     "data": {
      "text/plain": [
       "[]"
      ]
     },
     "execution_count": 20,
     "metadata": {},
     "output_type": "execute_result"
    },
    {
     "data": {
      "image/png": "[encoded data removed]",
      "text/plain": [
       "<Figure size 640x480 with 1 Axes>"
      ]
     },
     "metadata": {},
     "output_type": "display_data"
    }
   ],
   "source": [
    "p = sns.lineplot(mlp.error_rate)\n",
    "p.set_xlabel(\"Training Iterations\")\n",
    "p.set_ylabel(\"Error Rate\")\n",
    "p.plot()"
   ]
  },
  {
   "cell_type": "code",
   "execution_count": 21,
   "id": "8a22f29c",
   "metadata": {},
   "outputs": [
    {
     "name": "stdout",
     "output_type": "stream",
     "text": [
      "[0 1 1 0 1 1 1 1 1 1 1 1 1 1 0 0 0 0 0 1 1 1 1 1 1 1 1 1 0 1 1 0 0 0 1 1 0\n",
      " 1 1 0 0 1 0 1 1 1 0 1 1 1 1 1 1 0 1 1 0 0 0 0 0 1 0 0 0 1 1 1]\n"
     ]
    }
   ],
   "source": [
    "y_pred = mlp.predict(X_test)\n",
    "y_pred_proba = mlp.pred_proba\n",
    "print(y_pred)"
   ]
  },
  {
   "cell_type": "code",
   "execution_count": 22,
   "id": "c1a3baf3",
   "metadata": {},
   "outputs": [
    {
     "name": "stdout",
     "output_type": "stream",
     "text": [
      "Accuracy Score: 0.8382352941176471 \n",
      "\n"
     ]
    }
   ],
   "source": [
    "print(f\"Accuracy Score: {accuracy_score(y_test, y_pred)} \\n\")"
   ]
  },
  {
   "cell_type": "code",
   "execution_count": 23,
   "id": "5923660f",
   "metadata": {},
   "outputs": [
    {
     "name": "stdout",
     "output_type": "stream",
     "text": [
      "              precision    recall  f1-score   support\n",
      "\n",
      "           0       0.92      0.72      0.81        32\n",
      "           1       0.79      0.94      0.86        36\n",
      "\n",
      "    accuracy                           0.84        68\n",
      "   macro avg       0.86      0.83      0.83        68\n",
      "weighted avg       0.85      0.84      0.84        68\n",
      "\n"
     ]
    }
   ],
   "source": [
    "print(classification_report(y_test, y_pred))"
   ]
  },
  {
   "cell_type": "code",
   "execution_count": 24,
   "id": "f2b17943",
   "metadata": {},
   "outputs": [
    {
     "data": {
      "text/plain": [
       "<AxesSubplot: >"
      ]
     },
     "execution_count": 24,
     "metadata": {},
     "output_type": "execute_result"
    },
    {
     "data": {
      "image/png": "[encoded data removed]",
      "text/plain": [
       "<Figure size 640x480 with 2 Axes>"
      ]
     },
     "metadata": {},
     "output_type": "display_data"
    }
   ],
   "source": [
    "cf_matrix = confusion_matrix(y_test,y_pred)\n",
    "sns.heatmap(cf_matrix, annot = True)"
   ]
  },
  {
   "cell_type": "code",
   "execution_count": 25,
   "id": "667d543c",
   "metadata": {},
   "outputs": [
    {
     "data": {
      "text/plain": [
       "[<matplotlib.lines.Line2D at 0x142f18b1f50>]"
      ]
     },
     "execution_count": 25,
     "metadata": {},
     "output_type": "execute_result"
    },
    {
     "data": {
      "image/png": "[encoded data removed]",
      "text/plain": [
       "<Figure size 640x480 with 1 Axes>"
      ]
     },
     "metadata": {},
     "output_type": "display_data"
    }
   ],
   "source": [
    "false_positive_rate, true_positive_rate, threshold = roc_curve(y_test, y_pred_proba)\n",
    "plt.plot(false_positive_rate, true_positive_rate)"
   ]
  },
  {
   "cell_type": "code",
   "execution_count": 26,
   "id": "a21a786f",
   "metadata": {},
   "outputs": [],
   "source": [
    "from sklearn.linear_model import LogisticRegression"
   ]
  },
  {
   "cell_type": "code",
   "execution_count": 27,
   "id": "c3c6970d",
   "metadata": {},
   "outputs": [],
   "source": [
    "log = LogisticRegression()"
   ]
  },
  {
   "cell_type": "code",
   "execution_count": 28,
   "id": "1e07238a",
   "metadata": {},
   "outputs": [
    {
     "data": {
      "text/html": [
       "<style>#sk-container-id-1 {color: black;background-color: white;}#sk-container-id-1 pre{padding: 0;}#sk-container-id-1 div.sk-toggleable {background-color: white;}#sk-container-id-1 label.sk-toggleable__label {cursor: pointer;display: block;width: 100%;margin-bottom: 0;padding: 0.3em;box-sizing: border-box;text-align: center;}#sk-container-id-1 label.sk-toggleable__label-arrow:before {content: \"▸\";float: left;margin-right: 0.25em;color: #696969;}#sk-container-id-1 label.sk-toggleable__label-arrow:hover:before {color: black;}#sk-container-id-1 div.sk-estimator:hover label.sk-toggleable__label-arrow:before {color: black;}#sk-container-id-1 div.sk-toggleable__content {max-height: 0;max-width: 0;overflow: hidden;text-align: left;background-color: #f0f8ff;}#sk-container-id-1 div.sk-toggleable__content pre {margin: 0.2em;color: black;border-radius: 0.25em;background-color: #f0f8ff;}#sk-container-id-1 input.sk-toggleable__control:checked~div.sk-toggleable__content {max-height: 200px;max-width: 100%;overflow: auto;}#sk-container-id-1 input.sk-toggleable__control:checked~label.sk-toggleable__label-arrow:before {content: \"▾\";}#sk-container-id-1 div.sk-estimator input.sk-toggleable__control:checked~label.sk-toggleable__label {background-color: #d4ebff;}#sk-container-id-1 div.sk-label input.sk-toggleable__control:checked~label.sk-toggleable__label {background-color: #d4ebff;}#sk-container-id-1 input.sk-hidden--visually {border: 0;clip: rect(1px 1px 1px 1px);clip: rect(1px, 1px, 1px, 1px);height: 1px;margin: -1px;overflow: hidden;padding: 0;position: absolute;width: 1px;}#sk-container-id-1 div.sk-estimator {font-family: monospace;background-color: #f0f8ff;border: 1px dotted black;border-radius: 0.25em;box-sizing: border-box;margin-bottom: 0.5em;}#sk-container-id-1 div.sk-estimator:hover {background-color: #d4ebff;}#sk-container-id-1 div.sk-parallel-item::after {content: \"\";width: 100%;border-bottom: 1px solid gray;flex-grow: 1;}#sk-container-id-1 div.sk-label:hover label.sk-toggleable__label {background-color: #d4ebff;}#sk-container-id-1 div.sk-serial::before {content: \"\";position: absolute;border-left: 1px solid gray;box-sizing: border-box;top: 0;bottom: 0;left: 50%;z-index: 0;}#sk-container-id-1 div.sk-serial {display: flex;flex-direction: column;align-items: center;background-color: white;padding-right: 0.2em;padding-left: 0.2em;position: relative;}#sk-container-id-1 div.sk-item {position: relative;z-index: 1;}#sk-container-id-1 div.sk-parallel {display: flex;align-items: stretch;justify-content: center;background-color: white;position: relative;}#sk-container-id-1 div.sk-item::before, #sk-container-id-1 div.sk-parallel-item::before {content: \"\";position: absolute;border-left: 1px solid gray;box-sizing: border-box;top: 0;bottom: 0;left: 50%;z-index: -1;}#sk-container-id-1 div.sk-parallel-item {display: flex;flex-direction: column;z-index: 1;position: relative;background-color: white;}#sk-container-id-1 div.sk-parallel-item:first-child::after {align-self: flex-end;width: 50%;}#sk-container-id-1 div.sk-parallel-item:last-child::after {align-self: flex-start;width: 50%;}#sk-container-id-1 div.sk-parallel-item:only-child::after {width: 0;}#sk-container-id-1 div.sk-dashed-wrapped {border: 1px dashed gray;margin: 0 0.4em 0.5em 0.4em;box-sizing: border-box;padding-bottom: 0.4em;background-color: white;}#sk-container-id-1 div.sk-label label {font-family: monospace;font-weight: bold;display: inline-block;line-height: 1.2em;}#sk-container-id-1 div.sk-label-container {text-align: center;}#sk-container-id-1 div.sk-container {/* jupyter's `normalize.less` sets `[hidden] { display: none; }` but bootstrap.min.css set `[hidden] { display: none !important; }` so we also need the `!important` here to be able to override the default hidden behavior on the sphinx rendered scikit-learn.org. See: https://github.com/scikit-learn/scikit-learn/issues/21755 */display: inline-block !important;position: relative;}#sk-container-id-1 div.sk-text-repr-fallback {display: none;}</style><div id=\"sk-container-id-1\" class=\"sk-top-container\"><div class=\"sk-text-repr-fallback\"><pre>LogisticRegression()</pre><b>In a Jupyter environment, please rerun this cell to show the HTML representation or trust the notebook. <br />On GitHub, the HTML representation is unable to render, please try loading this page with nbviewer.org.</b></div><div class=\"sk-container\" hidden><div class=\"sk-item\"><div class=\"sk-estimator sk-toggleable\"><input class=\"sk-toggleable__control sk-hidden--visually\" id=\"sk-estimator-id-1\" type=\"checkbox\" checked><label for=\"sk-estimator-id-1\" class=\"sk-toggleable__label sk-toggleable__label-arrow\">LogisticRegression</label><div class=\"sk-toggleable__content\"><pre>LogisticRegression()</pre></div></div></div></div></div>"
      ],
      "text/plain": [
       "LogisticRegression()"
      ]
     },
     "execution_count": 28,
     "metadata": {},
     "output_type": "execute_result"
    }
   ],
   "source": [
    "log.fit(X_train, y_train)"
   ]
  },
  {
   "cell_type": "code",
   "execution_count": 29,
   "id": "233337e6",
   "metadata": {},
   "outputs": [
    {
     "name": "stdout",
     "output_type": "stream",
     "text": [
      "[0 1 1 0 1 1 0 1 1 1 1 1 1 1 0 0 0 0 0 1 1 1 1 0 1 1 0 1 0 1 0 1 0 0 0 1 0\n",
      " 1 1 0 0 1 0 0 1 1 0 1 1 0 0 1 1 0 1 1 0 0 0 0 0 1 0 0 0 1 0 1]\n"
     ]
    }
   ],
   "source": [
    "log_pred = log.predict(X_test)\n",
    "print(log_pred)"
   ]
  },
  {
   "cell_type": "code",
   "execution_count": 30,
   "id": "4e36df96",
   "metadata": {},
   "outputs": [
    {
     "name": "stdout",
     "output_type": "stream",
     "text": [
      "Accuracy Score: 0.7794117647058824 \n",
      "\n"
     ]
    }
   ],
   "source": [
    "print(f\"Accuracy Score: {accuracy_score(y_test, log_pred)} \\n\")"
   ]
  },
  {
   "cell_type": "code",
   "execution_count": 31,
   "id": "255de104",
   "metadata": {},
   "outputs": [
    {
     "name": "stdout",
     "output_type": "stream",
     "text": [
      "              precision    recall  f1-score   support\n",
      "\n",
      "           0       0.76      0.78      0.77        32\n",
      "           1       0.80      0.78      0.79        36\n",
      "\n",
      "    accuracy                           0.78        68\n",
      "   macro avg       0.78      0.78      0.78        68\n",
      "weighted avg       0.78      0.78      0.78        68\n",
      "\n"
     ]
    }
   ],
   "source": [
    "print(classification_report(y_test, log_pred))"
   ]
  },
  {
   "cell_type": "code",
   "execution_count": 32,
   "id": "c28ba671",
   "metadata": {},
   "outputs": [
    {
     "data": {
      "text/plain": [
       "<AxesSubplot: >"
      ]
     },
     "execution_count": 32,
     "metadata": {},
     "output_type": "execute_result"
    },
    {
     "data": {
      "image/png": "[encoded data removed]",
      "text/plain": [
       "<Figure size 640x480 with 2 Axes>"
      ]
     },
     "metadata": {},
     "output_type": "display_data"
    }
   ],
   "source": [
    "cf_matrix = confusion_matrix(y_test,log_pred)\n",
    "sns.heatmap(cf_matrix, annot = True)"
   ]
  },
  {
   "cell_type": "code",
   "execution_count": 33,
   "id": "d233a0a3",
   "metadata": {},
   "outputs": [],
   "source": [
    "log_pred_proba = log.predict_proba(X_test)[:,1]"
   ]
  },
  {
   "cell_type": "code",
   "execution_count": 34,
   "id": "44f1b63f",
   "metadata": {},
   "outputs": [
    {
     "data": {
      "text/plain": [
       "[<matplotlib.lines.Line2D at 0x142f1997690>]"
      ]
     },
     "execution_count": 34,
     "metadata": {},
     "output_type": "execute_result"
    },
    {
     "data": {
      "image/png": "[encoded data removed]",
      "text/plain": [
       "<Figure size 640x480 with 1 Axes>"
      ]
     },
     "metadata": {},
     "output_type": "display_data"
    }
   ],
   "source": [
    "false_positive_rate, true_positive_rate, threshold = roc_curve(y_test, log_pred_proba)\n",
    "plt.plot(false_positive_rate, true_positive_rate)"
   ]
  }
 ],
 "metadata": {
  "kernelspec": {
   "display_name": "Python 3 (ipykernel)",
   "language": "python",
   "name": "python3"
  },
  "language_info": {
   "codemirror_mode": {
    "name": "ipython",
    "version": 3
   },
   "file_extension": ".py",
   "mimetype": "text/x-python",
   "name": "python",
   "nbconvert_exporter": "python",
   "pygments_lexer": "ipython3",
   "version": "3.11.0"
  },
  "vscode": {
   "interpreter": {
    "hash": "895965ff89e31dbb8817b13ea40d8d3de3483b91af9cca7b5616b48a8b2876f6"
   }
  }
 },
 "nbformat": 4,
 "nbformat_minor": 5
}
